{
 "cells": [
  {
   "cell_type": "code",
   "execution_count": 75,
   "metadata": {},
   "outputs": [],
   "source": [
    "import pandas as pd\n",
    "import matplotlib.pyplot as plt\n",
    "import seaborn as sns\n",
    "from pyspark.sql import SparkSession"
   ]
  },
  {
   "cell_type": "code",
   "execution_count": 76,
   "metadata": {},
   "outputs": [],
   "source": [
    "spark=SparkSession.builder.appName(\"pre_processing\").getOrCreate()"
   ]
  },
  {
   "cell_type": "code",
   "execution_count": 77,
   "metadata": {},
   "outputs": [],
   "source": [
    "spark_df=spark.read.csv(\"/home/hdoop/Downloads/data_preprocessing.csv\",header=True, inferSchema=True)"
   ]
  },
  {
   "cell_type": "markdown",
   "metadata": {},
   "source": [
    "<h2>PreProcessing Implementaion Using pandas"
   ]
  },
  {
   "cell_type": "code",
   "execution_count": 78,
   "metadata": {},
   "outputs": [],
   "source": [
    "df=spark_df.toPandas()\n"
   ]
  },
  {
   "cell_type": "code",
   "execution_count": 79,
   "metadata": {},
   "outputs": [
    {
     "data": {
      "text/plain": [
       "pandas.core.frame.DataFrame"
      ]
     },
     "execution_count": 79,
     "metadata": {},
     "output_type": "execute_result"
    }
   ],
   "source": [
    "type(df)"
   ]
  },
  {
   "cell_type": "code",
   "execution_count": 80,
   "metadata": {},
   "outputs": [
    {
     "data": {
      "text/plain": [
       "(10, 4)"
      ]
     },
     "execution_count": 80,
     "metadata": {},
     "output_type": "execute_result"
    }
   ],
   "source": [
    "df.shape\n"
   ]
  },
  {
   "cell_type": "code",
   "execution_count": 81,
   "metadata": {},
   "outputs": [
    {
     "data": {
      "text/html": [
       "<div>\n",
       "<style scoped>\n",
       "    .dataframe tbody tr th:only-of-type {\n",
       "        vertical-align: middle;\n",
       "    }\n",
       "\n",
       "    .dataframe tbody tr th {\n",
       "        vertical-align: top;\n",
       "    }\n",
       "\n",
       "    .dataframe thead th {\n",
       "        text-align: right;\n",
       "    }\n",
       "</style>\n",
       "<table border=\"1\" class=\"dataframe\">\n",
       "  <thead>\n",
       "    <tr style=\"text-align: right;\">\n",
       "      <th></th>\n",
       "      <th>Age</th>\n",
       "      <th>Salary</th>\n",
       "    </tr>\n",
       "  </thead>\n",
       "  <tbody>\n",
       "    <tr>\n",
       "      <th>count</th>\n",
       "      <td>9.000000</td>\n",
       "      <td>9.000000</td>\n",
       "    </tr>\n",
       "    <tr>\n",
       "      <th>mean</th>\n",
       "      <td>38.777778</td>\n",
       "      <td>63777.777778</td>\n",
       "    </tr>\n",
       "    <tr>\n",
       "      <th>std</th>\n",
       "      <td>7.693793</td>\n",
       "      <td>12265.579662</td>\n",
       "    </tr>\n",
       "    <tr>\n",
       "      <th>min</th>\n",
       "      <td>27.000000</td>\n",
       "      <td>48000.000000</td>\n",
       "    </tr>\n",
       "    <tr>\n",
       "      <th>25%</th>\n",
       "      <td>35.000000</td>\n",
       "      <td>54000.000000</td>\n",
       "    </tr>\n",
       "    <tr>\n",
       "      <th>50%</th>\n",
       "      <td>38.000000</td>\n",
       "      <td>61000.000000</td>\n",
       "    </tr>\n",
       "    <tr>\n",
       "      <th>75%</th>\n",
       "      <td>44.000000</td>\n",
       "      <td>72000.000000</td>\n",
       "    </tr>\n",
       "    <tr>\n",
       "      <th>max</th>\n",
       "      <td>50.000000</td>\n",
       "      <td>83000.000000</td>\n",
       "    </tr>\n",
       "  </tbody>\n",
       "</table>\n",
       "</div>"
      ],
      "text/plain": [
       "             Age        Salary\n",
       "count   9.000000      9.000000\n",
       "mean   38.777778  63777.777778\n",
       "std     7.693793  12265.579662\n",
       "min    27.000000  48000.000000\n",
       "25%    35.000000  54000.000000\n",
       "50%    38.000000  61000.000000\n",
       "75%    44.000000  72000.000000\n",
       "max    50.000000  83000.000000"
      ]
     },
     "execution_count": 81,
     "metadata": {},
     "output_type": "execute_result"
    }
   ],
   "source": [
    "df.describe()"
   ]
  },
  {
   "cell_type": "code",
   "execution_count": 82,
   "metadata": {},
   "outputs": [
    {
     "name": "stdout",
     "output_type": "stream",
     "text": [
      "<class 'pandas.core.frame.DataFrame'>\n",
      "RangeIndex: 10 entries, 0 to 9\n",
      "Data columns (total 4 columns):\n",
      " #   Column     Non-Null Count  Dtype  \n",
      "---  ------     --------------  -----  \n",
      " 0   Country    10 non-null     object \n",
      " 1   Age        9 non-null      float64\n",
      " 2   Salary     9 non-null      float64\n",
      " 3   Purchased  10 non-null     object \n",
      "dtypes: float64(2), object(2)\n",
      "memory usage: 448.0+ bytes\n"
     ]
    }
   ],
   "source": [
    "df.info()"
   ]
  },
  {
   "cell_type": "code",
   "execution_count": 83,
   "metadata": {},
   "outputs": [
    {
     "data": {
      "text/plain": [
       "Country      0\n",
       "Age          1\n",
       "Salary       1\n",
       "Purchased    0\n",
       "dtype: int64"
      ]
     },
     "execution_count": 83,
     "metadata": {},
     "output_type": "execute_result"
    }
   ],
   "source": [
    "# chechking for null values\n",
    "df.isna().sum()"
   ]
  },
  {
   "cell_type": "code",
   "execution_count": 84,
   "metadata": {},
   "outputs": [
    {
     "data": {
      "text/plain": [
       "Country       0.0\n",
       "Age          10.0\n",
       "Salary       10.0\n",
       "Purchased     0.0\n",
       "dtype: float64"
      ]
     },
     "execution_count": 84,
     "metadata": {},
     "output_type": "execute_result"
    }
   ],
   "source": [
    "df.isnull().sum()/len(df)*100"
   ]
  },
  {
   "cell_type": "code",
   "execution_count": 85,
   "metadata": {},
   "outputs": [],
   "source": [
    "age_data=df[\"Age\"]"
   ]
  },
  {
   "cell_type": "markdown",
   "metadata": {},
   "source": [
    "Ploting the Gaussian Distribution For Age"
   ]
  },
  {
   "cell_type": "code",
   "execution_count": 86,
   "metadata": {},
   "outputs": [
    {
     "data": {
      "text/plain": [
       "<Axes: xlabel='Age', ylabel='Density'>"
      ]
     },
     "execution_count": 86,
     "metadata": {},
     "output_type": "execute_result"
    },
    {
     "data": {
      "image/png": "[encoded data removed]",
      "text/plain": [
       "<Figure size 640x480 with 1 Axes>"
      ]
     },
     "metadata": {},
     "output_type": "display_data"
    }
   ],
   "source": [
    "sns.kdeplot(age_data, color='b')"
   ]
  },
  {
   "cell_type": "markdown",
   "metadata": {},
   "source": [
    "Ploting the Gaussian Distribution For Salary"
   ]
  },
  {
   "cell_type": "code",
   "execution_count": 87,
   "metadata": {},
   "outputs": [
    {
     "data": {
      "text/plain": [
       "<Axes: xlabel='Salary', ylabel='Density'>"
      ]
     },
     "execution_count": 87,
     "metadata": {},
     "output_type": "execute_result"
    },
    {
     "data": {
      "image/png": "[encoded data removed]",
      "text/plain": [
       "<Figure size 640x480 with 1 Axes>"
      ]
     },
     "metadata": {},
     "output_type": "display_data"
    }
   ],
   "source": [
    "salary_data=df[\"Salary\"]\n",
    "sns.kdeplot(salary_data, color='b')"
   ]
  },
  {
   "cell_type": "markdown",
   "metadata": {},
   "source": [
    "Handeling The missing the value"
   ]
  },
  {
   "cell_type": "code",
   "execution_count": 88,
   "metadata": {},
   "outputs": [],
   "source": [
    "# handeling the missing value\n",
    "age_mean=df[\"Age\"].mean()\n",
    "salary_median=df[\"Salary\"].median()\n",
    "\n",
    "df[\"Age\"].fillna(age_mean,inplace=True)\n",
    "df[\"Salary\"].fillna(salary_median,inplace=True)"
   ]
  },
  {
   "cell_type": "code",
   "execution_count": 89,
   "metadata": {},
   "outputs": [
    {
     "data": {
      "text/html": [
       "<div>\n",
       "<style scoped>\n",
       "    .dataframe tbody tr th:only-of-type {\n",
       "        vertical-align: middle;\n",
       "    }\n",
       "\n",
       "    .dataframe tbody tr th {\n",
       "        vertical-align: top;\n",
       "    }\n",
       "\n",
       "    .dataframe thead th {\n",
       "        text-align: right;\n",
       "    }\n",
       "</style>\n",
       "<table border=\"1\" class=\"dataframe\">\n",
       "  <thead>\n",
       "    <tr style=\"text-align: right;\">\n",
       "      <th></th>\n",
       "      <th>Country</th>\n",
       "      <th>Age</th>\n",
       "      <th>Salary</th>\n",
       "      <th>Purchased</th>\n",
       "    </tr>\n",
       "  </thead>\n",
       "  <tbody>\n",
       "    <tr>\n",
       "      <th>0</th>\n",
       "      <td>France</td>\n",
       "      <td>44.000000</td>\n",
       "      <td>72000.0</td>\n",
       "      <td>No</td>\n",
       "    </tr>\n",
       "    <tr>\n",
       "      <th>1</th>\n",
       "      <td>Spain</td>\n",
       "      <td>27.000000</td>\n",
       "      <td>48000.0</td>\n",
       "      <td>Yes</td>\n",
       "    </tr>\n",
       "    <tr>\n",
       "      <th>2</th>\n",
       "      <td>Germany</td>\n",
       "      <td>30.000000</td>\n",
       "      <td>54000.0</td>\n",
       "      <td>No</td>\n",
       "    </tr>\n",
       "    <tr>\n",
       "      <th>3</th>\n",
       "      <td>Spain</td>\n",
       "      <td>38.000000</td>\n",
       "      <td>61000.0</td>\n",
       "      <td>No</td>\n",
       "    </tr>\n",
       "    <tr>\n",
       "      <th>4</th>\n",
       "      <td>Germany</td>\n",
       "      <td>40.000000</td>\n",
       "      <td>61000.0</td>\n",
       "      <td>Yes</td>\n",
       "    </tr>\n",
       "    <tr>\n",
       "      <th>5</th>\n",
       "      <td>France</td>\n",
       "      <td>35.000000</td>\n",
       "      <td>58000.0</td>\n",
       "      <td>Yes</td>\n",
       "    </tr>\n",
       "    <tr>\n",
       "      <th>6</th>\n",
       "      <td>Spain</td>\n",
       "      <td>38.777778</td>\n",
       "      <td>52000.0</td>\n",
       "      <td>No</td>\n",
       "    </tr>\n",
       "    <tr>\n",
       "      <th>7</th>\n",
       "      <td>France</td>\n",
       "      <td>48.000000</td>\n",
       "      <td>79000.0</td>\n",
       "      <td>Yes</td>\n",
       "    </tr>\n",
       "    <tr>\n",
       "      <th>8</th>\n",
       "      <td>Germany</td>\n",
       "      <td>50.000000</td>\n",
       "      <td>83000.0</td>\n",
       "      <td>No</td>\n",
       "    </tr>\n",
       "    <tr>\n",
       "      <th>9</th>\n",
       "      <td>France</td>\n",
       "      <td>37.000000</td>\n",
       "      <td>67000.0</td>\n",
       "      <td>Yes</td>\n",
       "    </tr>\n",
       "  </tbody>\n",
       "</table>\n",
       "</div>"
      ],
      "text/plain": [
       "   Country        Age   Salary Purchased\n",
       "0   France  44.000000  72000.0        No\n",
       "1    Spain  27.000000  48000.0       Yes\n",
       "2  Germany  30.000000  54000.0        No\n",
       "3    Spain  38.000000  61000.0        No\n",
       "4  Germany  40.000000  61000.0       Yes\n",
       "5   France  35.000000  58000.0       Yes\n",
       "6    Spain  38.777778  52000.0        No\n",
       "7   France  48.000000  79000.0       Yes\n",
       "8  Germany  50.000000  83000.0        No\n",
       "9   France  37.000000  67000.0       Yes"
      ]
     },
     "execution_count": 89,
     "metadata": {},
     "output_type": "execute_result"
    }
   ],
   "source": [
    "df"
   ]
  },
  {
   "cell_type": "code",
   "execution_count": 90,
   "metadata": {},
   "outputs": [
    {
     "data": {
      "text/plain": [
       "Country      0\n",
       "Age          0\n",
       "Salary       0\n",
       "Purchased    0\n",
       "dtype: int64"
      ]
     },
     "execution_count": 90,
     "metadata": {},
     "output_type": "execute_result"
    }
   ],
   "source": [
    "df.isna().sum()"
   ]
  },
  {
   "cell_type": "markdown",
   "metadata": {},
   "source": [
    "Encoding"
   ]
  },
  {
   "cell_type": "code",
   "execution_count": 91,
   "metadata": {},
   "outputs": [
    {
     "data": {
      "text/html": [
       "<div>\n",
       "<style scoped>\n",
       "    .dataframe tbody tr th:only-of-type {\n",
       "        vertical-align: middle;\n",
       "    }\n",
       "\n",
       "    .dataframe tbody tr th {\n",
       "        vertical-align: top;\n",
       "    }\n",
       "\n",
       "    .dataframe thead th {\n",
       "        text-align: right;\n",
       "    }\n",
       "</style>\n",
       "<table border=\"1\" class=\"dataframe\">\n",
       "  <thead>\n",
       "    <tr style=\"text-align: right;\">\n",
       "      <th></th>\n",
       "      <th>Country</th>\n",
       "      <th>Age</th>\n",
       "      <th>Salary</th>\n",
       "      <th>Purchased</th>\n",
       "    </tr>\n",
       "  </thead>\n",
       "  <tbody>\n",
       "    <tr>\n",
       "      <th>0</th>\n",
       "      <td>France</td>\n",
       "      <td>44.000000</td>\n",
       "      <td>72000.0</td>\n",
       "      <td>0</td>\n",
       "    </tr>\n",
       "    <tr>\n",
       "      <th>1</th>\n",
       "      <td>Spain</td>\n",
       "      <td>27.000000</td>\n",
       "      <td>48000.0</td>\n",
       "      <td>1</td>\n",
       "    </tr>\n",
       "    <tr>\n",
       "      <th>2</th>\n",
       "      <td>Germany</td>\n",
       "      <td>30.000000</td>\n",
       "      <td>54000.0</td>\n",
       "      <td>0</td>\n",
       "    </tr>\n",
       "    <tr>\n",
       "      <th>3</th>\n",
       "      <td>Spain</td>\n",
       "      <td>38.000000</td>\n",
       "      <td>61000.0</td>\n",
       "      <td>0</td>\n",
       "    </tr>\n",
       "    <tr>\n",
       "      <th>4</th>\n",
       "      <td>Germany</td>\n",
       "      <td>40.000000</td>\n",
       "      <td>61000.0</td>\n",
       "      <td>1</td>\n",
       "    </tr>\n",
       "    <tr>\n",
       "      <th>5</th>\n",
       "      <td>France</td>\n",
       "      <td>35.000000</td>\n",
       "      <td>58000.0</td>\n",
       "      <td>1</td>\n",
       "    </tr>\n",
       "    <tr>\n",
       "      <th>6</th>\n",
       "      <td>Spain</td>\n",
       "      <td>38.777778</td>\n",
       "      <td>52000.0</td>\n",
       "      <td>0</td>\n",
       "    </tr>\n",
       "    <tr>\n",
       "      <th>7</th>\n",
       "      <td>France</td>\n",
       "      <td>48.000000</td>\n",
       "      <td>79000.0</td>\n",
       "      <td>1</td>\n",
       "    </tr>\n",
       "    <tr>\n",
       "      <th>8</th>\n",
       "      <td>Germany</td>\n",
       "      <td>50.000000</td>\n",
       "      <td>83000.0</td>\n",
       "      <td>0</td>\n",
       "    </tr>\n",
       "    <tr>\n",
       "      <th>9</th>\n",
       "      <td>France</td>\n",
       "      <td>37.000000</td>\n",
       "      <td>67000.0</td>\n",
       "      <td>1</td>\n",
       "    </tr>\n",
       "  </tbody>\n",
       "</table>\n",
       "</div>"
      ],
      "text/plain": [
       "   Country        Age   Salary  Purchased\n",
       "0   France  44.000000  72000.0          0\n",
       "1    Spain  27.000000  48000.0          1\n",
       "2  Germany  30.000000  54000.0          0\n",
       "3    Spain  38.000000  61000.0          0\n",
       "4  Germany  40.000000  61000.0          1\n",
       "5   France  35.000000  58000.0          1\n",
       "6    Spain  38.777778  52000.0          0\n",
       "7   France  48.000000  79000.0          1\n",
       "8  Germany  50.000000  83000.0          0\n",
       "9   France  37.000000  67000.0          1"
      ]
     },
     "execution_count": 91,
     "metadata": {},
     "output_type": "execute_result"
    }
   ],
   "source": [
    "# encoding \n",
    "df[\"Purchased\"]=df[\"Purchased\"].replace({'Yes':1 ,'No': 0})\n",
    "df"
   ]
  },
  {
   "cell_type": "markdown",
   "metadata": {},
   "source": [
    "Scaling Without any function"
   ]
  },
  {
   "cell_type": "code",
   "execution_count": 92,
   "metadata": {},
   "outputs": [],
   "source": [
    "# scaling\n",
    "min_age=df[\"Age\"].min()\n",
    "max_age=df[\"Age\"].max()\n",
    "\n",
    "min_salary=df[\"Salary\"].min()\n",
    "max_salary=df[\"Salary\"].max()\n",
    "\n",
    "def min_max_scaling(value,min_val, max_val):\n",
    "    return (value - min_val) / (max_val - min_val)\n",
    "\n",
    "for age in df[\"Age\"]:\n",
    "    df[\"Age\"]=df[\"Age\"].replace({age: min_max_scaling(age,min_age,max_age)})\n",
    "\n",
    "for salary in df[\"Salary\"]:\n",
    "    df[\"Salary\"]=df[\"Salary\"].replace({salary: min_max_scaling(salary,min_salary,max_salary)})\n",
    "\n"
   ]
  },
  {
   "cell_type": "code",
   "execution_count": 93,
   "metadata": {},
   "outputs": [
    {
     "name": "stdout",
     "output_type": "stream",
     "text": [
      "+-------+----+------+---------+\n",
      "|Country| Age|Salary|Purchased|\n",
      "+-------+----+------+---------+\n",
      "| France|  44| 72000|       No|\n",
      "|  Spain|  27| 48000|      Yes|\n",
      "|Germany|  30| 54000|       No|\n",
      "|  Spain|  38| 61000|       No|\n",
      "|Germany|  40|  null|      Yes|\n",
      "| France|  35| 58000|      Yes|\n",
      "|  Spain|null| 52000|       No|\n",
      "| France|  48| 79000|      Yes|\n",
      "|Germany|  50| 83000|       No|\n",
      "| France|  37| 67000|      Yes|\n",
      "+-------+----+------+---------+\n",
      "\n"
     ]
    }
   ],
   "source": [
    "spark_df.show()"
   ]
  },
  {
   "cell_type": "markdown",
   "metadata": {},
   "source": [
    "<h2>Implementaion Using Pyspark"
   ]
  },
  {
   "cell_type": "code",
   "execution_count": 94,
   "metadata": {},
   "outputs": [],
   "source": [
    "import pyspark.ml.feature as ml\n",
    "from pyspark.ml import Pipeline\n",
    "import pyspark.sql.functions as F\n"
   ]
  },
  {
   "cell_type": "markdown",
   "metadata": {},
   "source": [
    "handeling the missing value"
   ]
  },
  {
   "cell_type": "code",
   "execution_count": 95,
   "metadata": {},
   "outputs": [
    {
     "name": "stdout",
     "output_type": "stream",
     "text": [
      "+-------+---+------+---------+\n",
      "|Country|Age|Salary|Purchased|\n",
      "+-------+---+------+---------+\n",
      "| France| 44| 72000|       No|\n",
      "|  Spain| 27| 48000|      Yes|\n",
      "|Germany| 30| 54000|       No|\n",
      "|  Spain| 38| 61000|       No|\n",
      "|Germany| 40| 63777|      Yes|\n",
      "| France| 35| 58000|      Yes|\n",
      "|  Spain| 38| 52000|       No|\n",
      "| France| 48| 79000|      Yes|\n",
      "|Germany| 50| 83000|       No|\n",
      "| France| 37| 67000|      Yes|\n",
      "+-------+---+------+---------+\n",
      "\n"
     ]
    }
   ],
   "source": [
    "\n",
    "mean_age=spark_df.select(F.mean(F.col(\"Age\"))).collect()[0][0]\n",
    "mean_salary = spark_df.select(F.mean(F.col(\"Salary\"))).collect()[0][0]\n",
    "spark_df = spark_df.na.fill(value=mean_age,subset=\"Age\")\n",
    "spark_df = spark_df.na.fill(value=mean_salary,subset=\"Salary\")\n",
    "spark_df.show()"
   ]
  },
  {
   "cell_type": "markdown",
   "metadata": {},
   "source": [
    "<h2>ONE-hot encoding"
   ]
  },
  {
   "cell_type": "markdown",
   "metadata": {},
   "source": [
    "Encoding the y variable"
   ]
  },
  {
   "cell_type": "code",
   "execution_count": 96,
   "metadata": {},
   "outputs": [
    {
     "name": "stdout",
     "output_type": "stream",
     "text": [
      "+-------+---+------+---------+\n",
      "|Country|Age|Salary|Purchased|\n",
      "+-------+---+------+---------+\n",
      "| France| 44| 72000|        0|\n",
      "|  Spain| 27| 48000|        1|\n",
      "|Germany| 30| 54000|        0|\n",
      "|  Spain| 38| 61000|        0|\n",
      "|Germany| 40| 63777|        1|\n",
      "| France| 35| 58000|        1|\n",
      "|  Spain| 38| 52000|        0|\n",
      "| France| 48| 79000|        1|\n",
      "|Germany| 50| 83000|        0|\n",
      "| France| 37| 67000|        1|\n",
      "+-------+---+------+---------+\n",
      "\n"
     ]
    }
   ],
   "source": [
    "spark_df=spark_df.withColumn('Purchased',F.when(F.col('Purchased') == 'Yes',1).otherwise(0))\n",
    "spark_df.show()"
   ]
  },
  {
   "cell_type": "markdown",
   "metadata": {},
   "source": [
    "converting country to index"
   ]
  },
  {
   "cell_type": "code",
   "execution_count": 97,
   "metadata": {},
   "outputs": [
    {
     "name": "stdout",
     "output_type": "stream",
     "text": [
      "+-------+---+------+---------+-------------+\n",
      "|Country|Age|Salary|Purchased|Country_index|\n",
      "+-------+---+------+---------+-------------+\n",
      "| France| 44| 72000|        0|          0.0|\n",
      "|  Spain| 27| 48000|        1|          2.0|\n",
      "|Germany| 30| 54000|        0|          1.0|\n",
      "|  Spain| 38| 61000|        0|          2.0|\n",
      "|Germany| 40| 63777|        1|          1.0|\n",
      "| France| 35| 58000|        1|          0.0|\n",
      "|  Spain| 38| 52000|        0|          2.0|\n",
      "| France| 48| 79000|        1|          0.0|\n",
      "|Germany| 50| 83000|        0|          1.0|\n",
      "| France| 37| 67000|        1|          0.0|\n",
      "+-------+---+------+---------+-------------+\n",
      "\n"
     ]
    }
   ],
   "source": [
    "country_index=ml.StringIndexer(inputCol=\"Country\",outputCol=\"Country_index\")\n",
    "index=country_index.fit(spark_df)\n",
    "country_index_df=index.transform(spark_df)\n",
    "country_index_df.show()"
   ]
  },
  {
   "cell_type": "markdown",
   "metadata": {},
   "source": [
    "converting index to vector using onehotencoder"
   ]
  },
  {
   "cell_type": "code",
   "execution_count": 98,
   "metadata": {},
   "outputs": [
    {
     "name": "stdout",
     "output_type": "stream",
     "text": [
      "+-------+---+------+---------+-------------+--------------+\n",
      "|Country|Age|Salary|Purchased|Country_index|Country_vector|\n",
      "+-------+---+------+---------+-------------+--------------+\n",
      "| France| 44| 72000|        0|          0.0| (3,[0],[1.0])|\n",
      "|  Spain| 27| 48000|        1|          2.0| (3,[2],[1.0])|\n",
      "|Germany| 30| 54000|        0|          1.0| (3,[1],[1.0])|\n",
      "|  Spain| 38| 61000|        0|          2.0| (3,[2],[1.0])|\n",
      "|Germany| 40| 63777|        1|          1.0| (3,[1],[1.0])|\n",
      "| France| 35| 58000|        1|          0.0| (3,[0],[1.0])|\n",
      "|  Spain| 38| 52000|        0|          2.0| (3,[2],[1.0])|\n",
      "| France| 48| 79000|        1|          0.0| (3,[0],[1.0])|\n",
      "|Germany| 50| 83000|        0|          1.0| (3,[1],[1.0])|\n",
      "| France| 37| 67000|        1|          0.0| (3,[0],[1.0])|\n",
      "+-------+---+------+---------+-------------+--------------+\n",
      "\n"
     ]
    }
   ],
   "source": [
    "encoded=ml.OneHotEncoder(inputCol=\"Country_index\",outputCol=\"Country_vector\",dropLast=False)\n",
    "encoded_df=encoded.fit(country_index_df).transform(country_index_df)\n",
    "encoded_df.show()"
   ]
  },
  {
   "cell_type": "markdown",
   "metadata": {},
   "source": [
    "Converting vector to array"
   ]
  },
  {
   "cell_type": "code",
   "execution_count": 99,
   "metadata": {},
   "outputs": [
    {
     "name": "stdout",
     "output_type": "stream",
     "text": [
      "+-------+---+------+---------+-------------+--------------+---------------+\n",
      "|Country|Age|Salary|Purchased|Country_index|Country_vector|  country_array|\n",
      "+-------+---+------+---------+-------------+--------------+---------------+\n",
      "| France| 44| 72000|        0|          0.0| (3,[0],[1.0])|[1.0, 0.0, 0.0]|\n",
      "|  Spain| 27| 48000|        1|          2.0| (3,[2],[1.0])|[0.0, 0.0, 1.0]|\n",
      "|Germany| 30| 54000|        0|          1.0| (3,[1],[1.0])|[0.0, 1.0, 0.0]|\n",
      "|  Spain| 38| 61000|        0|          2.0| (3,[2],[1.0])|[0.0, 0.0, 1.0]|\n",
      "|Germany| 40| 63777|        1|          1.0| (3,[1],[1.0])|[0.0, 1.0, 0.0]|\n",
      "| France| 35| 58000|        1|          0.0| (3,[0],[1.0])|[1.0, 0.0, 0.0]|\n",
      "|  Spain| 38| 52000|        0|          2.0| (3,[2],[1.0])|[0.0, 0.0, 1.0]|\n",
      "| France| 48| 79000|        1|          0.0| (3,[0],[1.0])|[1.0, 0.0, 0.0]|\n",
      "|Germany| 50| 83000|        0|          1.0| (3,[1],[1.0])|[0.0, 1.0, 0.0]|\n",
      "| France| 37| 67000|        1|          0.0| (3,[0],[1.0])|[1.0, 0.0, 0.0]|\n",
      "+-------+---+------+---------+-------------+--------------+---------------+\n",
      "\n"
     ]
    }
   ],
   "source": [
    "from pyspark.ml.functions import vector_to_array\n",
    "vector_to_arr = encoded_df.select('*', vector_to_array('Country_vector').alias('country_array'))\n",
    "vector_to_arr.show()"
   ]
  },
  {
   "cell_type": "markdown",
   "metadata": {},
   "source": [
    "Adding encoded colums "
   ]
  },
  {
   "cell_type": "code",
   "execution_count": 100,
   "metadata": {},
   "outputs": [
    {
     "name": "stdout",
     "output_type": "stream",
     "text": [
      "+---+------+---------+------+-------+-----+\n",
      "|Age|Salary|Purchased|France|Germany|Spain|\n",
      "+---+------+---------+------+-------+-----+\n",
      "| 44| 72000|        0|   1.0|    0.0|  0.0|\n",
      "| 27| 48000|        1|   0.0|    0.0|  1.0|\n",
      "| 30| 54000|        0|   0.0|    1.0|  0.0|\n",
      "| 38| 61000|        0|   0.0|    0.0|  1.0|\n",
      "| 40| 63777|        1|   0.0|    1.0|  0.0|\n",
      "| 35| 58000|        1|   1.0|    0.0|  0.0|\n",
      "| 38| 52000|        0|   0.0|    0.0|  1.0|\n",
      "| 48| 79000|        1|   1.0|    0.0|  0.0|\n",
      "| 50| 83000|        0|   0.0|    1.0|  0.0|\n",
      "| 37| 67000|        1|   1.0|    0.0|  0.0|\n",
      "+---+------+---------+------+-------+-----+\n",
      "\n"
     ]
    }
   ],
   "source": [
    "num_categories = len(vector_to_arr.first()['country_array'])   \n",
    "cols_expanded = [(F.col('country_array')[i].alias(f'{index.labels[i]}')) for i in range(num_categories)]\n",
    "new_df = vector_to_arr.select('Age', 'Salary','Purchased', *cols_expanded)\n",
    "new_df.show()"
   ]
  },
  {
   "cell_type": "markdown",
   "metadata": {},
   "source": [
    "Scaling the age and salary column"
   ]
  },
  {
   "cell_type": "code",
   "execution_count": 101,
   "metadata": {},
   "outputs": [
    {
     "name": "stdout",
     "output_type": "stream",
     "text": [
      "+---+------+---------+------+-------+-----+----------+-------------+--------------------+--------------------+\n",
      "|Age|Salary|Purchased|France|Germany|Spain|Age_vector|Salary_vector|          Age_scaled|       Salary_scaled|\n",
      "+---+------+---------+------+-------+-----+----------+-------------+--------------------+--------------------+\n",
      "| 44| 72000|        0|   1.0|    0.0|  0.0|    [44.0]|    [72000.0]|[0.7391304347826086]|[0.6857142857142857]|\n",
      "| 27| 48000|        1|   0.0|    0.0|  1.0|    [27.0]|    [48000.0]|               [0.0]|               [0.0]|\n",
      "| 30| 54000|        0|   0.0|    1.0|  0.0|    [30.0]|    [54000.0]|[0.13043478260869...|[0.17142857142857...|\n",
      "| 38| 61000|        0|   0.0|    0.0|  1.0|    [38.0]|    [61000.0]|[0.4782608695652174]|[0.37142857142857...|\n",
      "| 40| 63777|        1|   0.0|    1.0|  0.0|    [40.0]|    [63777.0]|[0.5652173913043478]|[0.45077142857142...|\n",
      "| 35| 58000|        1|   1.0|    0.0|  0.0|    [35.0]|    [58000.0]|[0.34782608695652...|[0.2857142857142857]|\n",
      "| 38| 52000|        0|   0.0|    0.0|  1.0|    [38.0]|    [52000.0]|[0.4782608695652174]|[0.11428571428571...|\n",
      "| 48| 79000|        1|   1.0|    0.0|  0.0|    [48.0]|    [79000.0]|[0.9130434782608695]|[0.8857142857142857]|\n",
      "| 50| 83000|        0|   0.0|    1.0|  0.0|    [50.0]|    [83000.0]|               [1.0]|               [1.0]|\n",
      "| 37| 67000|        1|   1.0|    0.0|  0.0|    [37.0]|    [67000.0]|[0.43478260869565...|[0.5428571428571428]|\n",
      "+---+------+---------+------+-------+-----+----------+-------------+--------------------+--------------------+\n",
      "\n"
     ]
    }
   ],
   "source": [
    "feature_column = [\"Age\", \"Salary\"]\n",
    "\n",
    "assemblers = [ml.VectorAssembler(inputCols=[col], outputCol=col + \"_vector\") for col in feature_column]\n",
    "scalers = [ml.MinMaxScaler(inputCol=col + \"_vector\", outputCol=col + \"_scaled\") for col in feature_column]\n",
    "pipeline = Pipeline(stages=assemblers+scalers)\n",
    "scalerModel = pipeline.fit(new_df)\n",
    "new_data = scalerModel.transform(new_df)\n",
    "\n",
    "new_data.show()"
   ]
  },
  {
   "cell_type": "markdown",
   "metadata": {},
   "source": [
    "replacing the columns"
   ]
  },
  {
   "cell_type": "code",
   "execution_count": 102,
   "metadata": {},
   "outputs": [
    {
     "name": "stdout",
     "output_type": "stream",
     "text": [
      "+--------------------+--------------------+---------+------+-------+-----+\n",
      "|                 Age|              Salary|Purchased|France|Germany|Spain|\n",
      "+--------------------+--------------------+---------+------+-------+-----+\n",
      "|[0.7391304347826086]|[0.6857142857142857]|        0|   1.0|    0.0|  0.0|\n",
      "|               [0.0]|               [0.0]|        1|   0.0|    0.0|  1.0|\n",
      "|[0.13043478260869...|[0.17142857142857...|        0|   0.0|    1.0|  0.0|\n",
      "|[0.4782608695652174]|[0.37142857142857...|        0|   0.0|    0.0|  1.0|\n",
      "|[0.5652173913043478]|[0.45077142857142...|        1|   0.0|    1.0|  0.0|\n",
      "|[0.34782608695652...|[0.2857142857142857]|        1|   1.0|    0.0|  0.0|\n",
      "|[0.4782608695652174]|[0.11428571428571...|        0|   0.0|    0.0|  1.0|\n",
      "|[0.9130434782608695]|[0.8857142857142857]|        1|   1.0|    0.0|  0.0|\n",
      "|               [1.0]|               [1.0]|        0|   0.0|    1.0|  0.0|\n",
      "|[0.43478260869565...|[0.5428571428571428]|        1|   1.0|    0.0|  0.0|\n",
      "+--------------------+--------------------+---------+------+-------+-----+\n",
      "\n"
     ]
    }
   ],
   "source": [
    "new_data=new_data.withColumn(\"Age\",F.col(\"Age_Scaled\"))\n",
    "new_data=new_data.withColumn(\"Salary\",F.col(\"Salary_scaled\"))\n",
    "\n",
    "new_data=new_data.drop(\"Age_vector\",\"Salary_vector\",\"Age_Scaled\",\"Salary_scaled\")\n",
    "new_data.show()"
   ]
  },
  {
   "cell_type": "markdown",
   "metadata": {},
   "source": [
    "Spliting the data"
   ]
  },
  {
   "cell_type": "code",
   "execution_count": 103,
   "metadata": {},
   "outputs": [
    {
     "name": "stdout",
     "output_type": "stream",
     "text": [
      "+--------------------+--------------------+---------+------+-------+-----+\n",
      "|                 Age|              Salary|Purchased|France|Germany|Spain|\n",
      "+--------------------+--------------------+---------+------+-------+-----+\n",
      "|               [0.0]|               [0.0]|        1|   0.0|    0.0|  1.0|\n",
      "|[0.13043478260869...|[0.17142857142857...|        0|   0.0|    1.0|  0.0|\n",
      "|[0.43478260869565...|[0.5428571428571428]|        1|   1.0|    0.0|  0.0|\n",
      "|[0.4782608695652174]|[0.11428571428571...|        0|   0.0|    0.0|  1.0|\n",
      "|[0.4782608695652174]|[0.37142857142857...|        0|   0.0|    0.0|  1.0|\n",
      "|[0.7391304347826086]|[0.6857142857142857]|        0|   1.0|    0.0|  0.0|\n",
      "|               [1.0]|               [1.0]|        0|   0.0|    1.0|  0.0|\n",
      "+--------------------+--------------------+---------+------+-------+-----+\n",
      "\n",
      "+--------------------+--------------------+---------+------+-------+-----+\n",
      "|                 Age|              Salary|Purchased|France|Germany|Spain|\n",
      "+--------------------+--------------------+---------+------+-------+-----+\n",
      "|[0.34782608695652...|[0.2857142857142857]|        1|   1.0|    0.0|  0.0|\n",
      "|[0.5652173913043478]|[0.45077142857142...|        1|   0.0|    1.0|  0.0|\n",
      "|[0.9130434782608695]|[0.8857142857142857]|        1|   1.0|    0.0|  0.0|\n",
      "+--------------------+--------------------+---------+------+-------+-----+\n",
      "\n"
     ]
    }
   ],
   "source": [
    "train_data, test_data = new_data.randomSplit([0.8, 0.2], seed=42)\n",
    "\n",
    "# Show the first few rows of the training and testing data\n",
    "train_data.show()\n",
    "test_data.show()\n"
   ]
  },
  {
   "cell_type": "code",
   "execution_count": 104,
   "metadata": {},
   "outputs": [],
   "source": [
    "spark.stop()"
   ]
  }
 ],
 "metadata": {
  "kernelspec": {
   "display_name": "Python 3",
   "language": "python",
   "name": "python3"
  },
  "language_info": {
   "codemirror_mode": {
    "name": "ipython",
    "version": 3
   },
   "file_extension": ".py",
   "mimetype": "text/x-python",
   "name": "python",
   "nbconvert_exporter": "python",
   "pygments_lexer": "ipython3",
   "version": "3.8.10"
  },
  "orig_nbformat": 4
 },
 "nbformat": 4,
 "nbformat_minor": 2
}
