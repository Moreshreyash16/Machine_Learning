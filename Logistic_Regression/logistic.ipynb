{
 "cells": [
  {
   "cell_type": "code",
   "execution_count": 47,
   "metadata": {},
   "outputs": [],
   "source": [
    "import pandas as pd\n",
    "import matplotlib.pyplot as plt\n",
    "import seaborn as sns\n",
    "from pyspark.sql import SparkSession\n",
    "from pyspark.ml.regression import LinearRegression\n",
    "import pyspark.sql.functions as fn\n",
    "import pyspark.ml.feature as ml"
   ]
  },
  {
   "cell_type": "code",
   "execution_count": 48,
   "metadata": {},
   "outputs": [],
   "source": [
    "spark=SparkSession.builder.appName(\"Logistic Reggression\").getOrCreate()"
   ]
  },
  {
   "cell_type": "code",
   "execution_count": 49,
   "metadata": {},
   "outputs": [
    {
     "name": "stderr",
     "output_type": "stream",
     "text": [
      "                                                                                \r"
     ]
    }
   ],
   "source": [
    "spark_df=spark.read.csv(\"/home/hdoop/Downloads/classification_2.csv\",inferSchema=True,header=True)"
   ]
  },
  {
   "cell_type": "code",
   "execution_count": 50,
   "metadata": {},
   "outputs": [
    {
     "name": "stderr",
     "output_type": "stream",
     "text": [
      "[Stage 104:>                                                        (0 + 1) / 1]\r"
     ]
    },
    {
     "name": "stdout",
     "output_type": "stream",
     "text": [
      "+-------+------------------+------------+------------------+-------------+-----------------+--------------+-----------------+------------+-------------------+-------+------------------+----------------+------------------+-----------+------+\n",
      "|summary|               Age|  Work_Class|      Final_Weight|    Education| Education_Number|Marital_Status|       Occupation|Relationship|              Race |    Sex|      Capital_Gain|    Capital_Loss|    Hours_per_Week|    Country|Income|\n",
      "+-------+------------------+------------+------------------+-------------+-----------------+--------------+-----------------+------------+-------------------+-------+------------------+----------------+------------------+-----------+------+\n",
      "|  count|             32561|       32561|             32561|        32561|            32561|         32561|            32561|       32561|              32561|  32561|             32561|           32561|             32561|      32561| 32561|\n",
      "|   mean| 38.58164675532078|        null|189778.36651208502|         null| 10.0806793403151|          null|             null|        null|               null|   null|1077.6488437087312| 87.303829734959|40.437455852092995|       null|  null|\n",
      "| stddev|13.640432553581356|        null|105549.97769702227|         null|2.572720332067397|          null|             null|        null|               null|   null| 7385.292084840354|402.960218649002|12.347428681731838|       null|  null|\n",
      "|    min|                17|           ?|             12285|         10th|                1|      Divorced|                ?|     Husband| Amer-Indian-Eskimo| Female|                 0|               0|                 1|          ?| <=50K|\n",
      "|    max|                90| Without-pay|           1484705| Some-college|               16|       Widowed| Transport-moving|        Wife|              White|   Male|             99999|            4356|                99| Yugoslavia|  >50K|\n",
      "+-------+------------------+------------+------------------+-------------+-----------------+--------------+-----------------+------------+-------------------+-------+------------------+----------------+------------------+-----------+------+\n",
      "\n"
     ]
    },
    {
     "name": "stderr",
     "output_type": "stream",
     "text": [
      "                                                                                \r"
     ]
    }
   ],
   "source": [
    "spark_df.describe().show()"
   ]
  },
  {
   "cell_type": "code",
   "execution_count": 51,
   "metadata": {},
   "outputs": [
    {
     "name": "stdout",
     "output_type": "stream",
     "text": [
      "root\n",
      " |-- Age: integer (nullable = true)\n",
      " |-- Work_Class: string (nullable = true)\n",
      " |-- Final_Weight: integer (nullable = true)\n",
      " |-- Education: string (nullable = true)\n",
      " |-- Education_Number: integer (nullable = true)\n",
      " |-- Marital_Status: string (nullable = true)\n",
      " |-- Occupation: string (nullable = true)\n",
      " |-- Relationship: string (nullable = true)\n",
      " |-- Race : string (nullable = true)\n",
      " |-- Sex: string (nullable = true)\n",
      " |-- Capital_Gain: integer (nullable = true)\n",
      " |-- Capital_Loss: integer (nullable = true)\n",
      " |-- Hours_per_Week: integer (nullable = true)\n",
      " |-- Country: string (nullable = true)\n",
      " |-- Income: string (nullable = true)\n",
      "\n"
     ]
    }
   ],
   "source": [
    "spark_df.printSchema()"
   ]
  },
  {
   "cell_type": "code",
   "execution_count": 52,
   "metadata": {},
   "outputs": [
    {
     "name": "stdout",
     "output_type": "stream",
     "text": [
      "+---+-----------------+------------+-------------+----------------+--------------------+------------------+--------------+-------------------+-------+------------+------------+--------------+--------------+------+\n",
      "|Age|       Work_Class|Final_Weight|    Education|Education_Number|      Marital_Status|        Occupation|  Relationship|              Race |    Sex|Capital_Gain|Capital_Loss|Hours_per_Week|       Country|Income|\n",
      "+---+-----------------+------------+-------------+----------------+--------------------+------------------+--------------+-------------------+-------+------------+------------+--------------+--------------+------+\n",
      "| 39|        State-gov|       77516|    Bachelors|              13|       Never-married|      Adm-clerical| Not-in-family|              White|   Male|        2174|           0|            40| United-States| <=50K|\n",
      "| 50| Self-emp-not-inc|       83311|    Bachelors|              13|  Married-civ-spouse|   Exec-managerial|       Husband|              White|   Male|           0|           0|            13| United-States| <=50K|\n",
      "| 38|          Private|      215646|      HS-grad|               9|            Divorced| Handlers-cleaners| Not-in-family|              White|   Male|           0|           0|            40| United-States| <=50K|\n",
      "| 53|          Private|      234721|         11th|               7|  Married-civ-spouse| Handlers-cleaners|       Husband|              Black|   Male|           0|           0|            40| United-States| <=50K|\n",
      "| 28|          Private|      338409|    Bachelors|              13|  Married-civ-spouse|    Prof-specialty|          Wife|              Black| Female|           0|           0|            40|          Cuba| <=50K|\n",
      "| 37|          Private|      284582|      Masters|              14|  Married-civ-spouse|   Exec-managerial|          Wife|              White| Female|           0|           0|            40| United-States| <=50K|\n",
      "| 49|          Private|      160187|          9th|               5| Married-spouse-a...|     Other-service| Not-in-family|              Black| Female|           0|           0|            16|       Jamaica| <=50K|\n",
      "| 52| Self-emp-not-inc|      209642|      HS-grad|               9|  Married-civ-spouse|   Exec-managerial|       Husband|              White|   Male|           0|           0|            45| United-States|  >50K|\n",
      "| 31|          Private|       45781|      Masters|              14|       Never-married|    Prof-specialty| Not-in-family|              White| Female|       14084|           0|            50| United-States|  >50K|\n",
      "| 42|          Private|      159449|    Bachelors|              13|  Married-civ-spouse|   Exec-managerial|       Husband|              White|   Male|        5178|           0|            40| United-States|  >50K|\n",
      "| 37|          Private|      280464| Some-college|              10|  Married-civ-spouse|   Exec-managerial|       Husband|              Black|   Male|           0|           0|            80| United-States|  >50K|\n",
      "| 30|        State-gov|      141297|    Bachelors|              13|  Married-civ-spouse|    Prof-specialty|       Husband| Asian-Pac-Islander|   Male|           0|           0|            40|         India|  >50K|\n",
      "| 23|          Private|      122272|    Bachelors|              13|       Never-married|      Adm-clerical|     Own-child|              White| Female|           0|           0|            30| United-States| <=50K|\n",
      "| 32|          Private|      205019|   Assoc-acdm|              12|       Never-married|             Sales| Not-in-family|              Black|   Male|           0|           0|            50| United-States| <=50K|\n",
      "| 40|          Private|      121772|    Assoc-voc|              11|  Married-civ-spouse|      Craft-repair|       Husband| Asian-Pac-Islander|   Male|           0|           0|            40|             ?|  >50K|\n",
      "| 34|          Private|      245487|      7th-8th|               4|  Married-civ-spouse|  Transport-moving|       Husband| Amer-Indian-Eskimo|   Male|           0|           0|            45|        Mexico| <=50K|\n",
      "| 25| Self-emp-not-inc|      176756|      HS-grad|               9|       Never-married|   Farming-fishing|     Own-child|              White|   Male|           0|           0|            35| United-States| <=50K|\n",
      "| 32|          Private|      186824|      HS-grad|               9|       Never-married| Machine-op-inspct|     Unmarried|              White|   Male|           0|           0|            40| United-States| <=50K|\n",
      "| 38|          Private|       28887|         11th|               7|  Married-civ-spouse|             Sales|       Husband|              White|   Male|           0|           0|            50| United-States| <=50K|\n",
      "| 43| Self-emp-not-inc|      292175|      Masters|              14|            Divorced|   Exec-managerial|     Unmarried|              White| Female|           0|           0|            45| United-States|  >50K|\n",
      "+---+-----------------+------------+-------------+----------------+--------------------+------------------+--------------+-------------------+-------+------------+------------+--------------+--------------+------+\n",
      "only showing top 20 rows\n",
      "\n"
     ]
    }
   ],
   "source": [
    "spark_df.show()"
   ]
  },
  {
   "cell_type": "markdown",
   "metadata": {},
   "source": [
    "<h2>PreProcessing"
   ]
  },
  {
   "cell_type": "markdown",
   "metadata": {},
   "source": [
    "Removing The Null Value"
   ]
  },
  {
   "cell_type": "code",
   "execution_count": 53,
   "metadata": {},
   "outputs": [
    {
     "name": "stdout",
     "output_type": "stream",
     "text": [
      "['Age', 'Work_Class', 'Final_Weight', 'Education', 'Education_Number', 'Marital_Status', 'Occupation', 'Relationship', 'Race ', 'Sex', 'Capital_Gain', 'Capital_Loss', 'Hours_per_Week', 'Country', 'Income']\n"
     ]
    }
   ],
   "source": [
    "print(spark_df.columns)"
   ]
  },
  {
   "cell_type": "code",
   "execution_count": 54,
   "metadata": {},
   "outputs": [
    {
     "name": "stdout",
     "output_type": "stream",
     "text": [
      "+---+-----------------+------------+-------------+----------------+--------------------+------------------+--------------+-------------------+-------+------------+------------+--------------+--------------+------+\n",
      "|Age|       Work_Class|Final_Weight|    Education|Education_Number|      Marital_Status|        Occupation|  Relationship|              Race |    Sex|Capital_Gain|Capital_Loss|Hours_per_Week|       Country|Income|\n",
      "+---+-----------------+------------+-------------+----------------+--------------------+------------------+--------------+-------------------+-------+------------+------------+--------------+--------------+------+\n",
      "| 39|        State-gov|       77516|    Bachelors|              13|       Never-married|      Adm-clerical| Not-in-family|              White|   Male|        2174|           0|            40| United-States| <=50K|\n",
      "| 50| Self-emp-not-inc|       83311|    Bachelors|              13|  Married-civ-spouse|   Exec-managerial|       Husband|              White|   Male|           0|           0|            13| United-States| <=50K|\n",
      "| 38|          Private|      215646|      HS-grad|               9|            Divorced| Handlers-cleaners| Not-in-family|              White|   Male|           0|           0|            40| United-States| <=50K|\n",
      "| 53|          Private|      234721|         11th|               7|  Married-civ-spouse| Handlers-cleaners|       Husband|              Black|   Male|           0|           0|            40| United-States| <=50K|\n",
      "| 28|          Private|      338409|    Bachelors|              13|  Married-civ-spouse|    Prof-specialty|          Wife|              Black| Female|           0|           0|            40|          Cuba| <=50K|\n",
      "| 37|          Private|      284582|      Masters|              14|  Married-civ-spouse|   Exec-managerial|          Wife|              White| Female|           0|           0|            40| United-States| <=50K|\n",
      "| 49|          Private|      160187|          9th|               5| Married-spouse-a...|     Other-service| Not-in-family|              Black| Female|           0|           0|            16|       Jamaica| <=50K|\n",
      "| 52| Self-emp-not-inc|      209642|      HS-grad|               9|  Married-civ-spouse|   Exec-managerial|       Husband|              White|   Male|           0|           0|            45| United-States|  >50K|\n",
      "| 31|          Private|       45781|      Masters|              14|       Never-married|    Prof-specialty| Not-in-family|              White| Female|       14084|           0|            50| United-States|  >50K|\n",
      "| 42|          Private|      159449|    Bachelors|              13|  Married-civ-spouse|   Exec-managerial|       Husband|              White|   Male|        5178|           0|            40| United-States|  >50K|\n",
      "| 37|          Private|      280464| Some-college|              10|  Married-civ-spouse|   Exec-managerial|       Husband|              Black|   Male|           0|           0|            80| United-States|  >50K|\n",
      "| 30|        State-gov|      141297|    Bachelors|              13|  Married-civ-spouse|    Prof-specialty|       Husband| Asian-Pac-Islander|   Male|           0|           0|            40|         India|  >50K|\n",
      "| 23|          Private|      122272|    Bachelors|              13|       Never-married|      Adm-clerical|     Own-child|              White| Female|           0|           0|            30| United-States| <=50K|\n",
      "| 32|          Private|      205019|   Assoc-acdm|              12|       Never-married|             Sales| Not-in-family|              Black|   Male|           0|           0|            50| United-States| <=50K|\n",
      "| 40|          Private|      121772|    Assoc-voc|              11|  Married-civ-spouse|      Craft-repair|       Husband| Asian-Pac-Islander|   Male|           0|           0|            40|             ?|  >50K|\n",
      "| 34|          Private|      245487|      7th-8th|               4|  Married-civ-spouse|  Transport-moving|       Husband| Amer-Indian-Eskimo|   Male|           0|           0|            45|        Mexico| <=50K|\n",
      "| 25| Self-emp-not-inc|      176756|      HS-grad|               9|       Never-married|   Farming-fishing|     Own-child|              White|   Male|           0|           0|            35| United-States| <=50K|\n",
      "| 32|          Private|      186824|      HS-grad|               9|       Never-married| Machine-op-inspct|     Unmarried|              White|   Male|           0|           0|            40| United-States| <=50K|\n",
      "| 38|          Private|       28887|         11th|               7|  Married-civ-spouse|             Sales|       Husband|              White|   Male|           0|           0|            50| United-States| <=50K|\n",
      "| 43| Self-emp-not-inc|      292175|      Masters|              14|            Divorced|   Exec-managerial|     Unmarried|              White| Female|           0|           0|            45| United-States|  >50K|\n",
      "+---+-----------------+------------+-------------+----------------+--------------------+------------------+--------------+-------------------+-------+------------+------------+--------------+--------------+------+\n",
      "only showing top 20 rows\n",
      "\n"
     ]
    }
   ],
   "source": [
    "# Here the values are \"?\"\n",
    "for col in spark_df.columns:\n",
    "    try:\n",
    "        spark_df=spark_df.filter(~fn.col(col).isin(\"?\"))\n",
    "    except:\n",
    "        continue\n",
    "spark_df.show()"
   ]
  },
  {
   "cell_type": "markdown",
   "metadata": {},
   "source": [
    "<h3> Encoding The Classification Columns"
   ]
  },
  {
   "cell_type": "code",
   "execution_count": 55,
   "metadata": {},
   "outputs": [
    {
     "name": "stdout",
     "output_type": "stream",
     "text": [
      "['Work_Class', 'Education', 'Occupation', 'Country']\n"
     ]
    }
   ],
   "source": [
    "colums=list(spark_df.columns)\n",
    "colums=['Work_Class','Education','Occupation','Country']\n",
    "print(colums)\n",
    "indexer=[ml.StringIndexer(inputCol=col,outputCol=col+\"_encoded\") for col in colums]    \n"
   ]
  },
  {
   "cell_type": "markdown",
   "metadata": {},
   "source": [
    "Fitting in the data"
   ]
  },
  {
   "cell_type": "code",
   "execution_count": 56,
   "metadata": {},
   "outputs": [
    {
     "name": "stderr",
     "output_type": "stream",
     "text": [
      "                                                                                \r"
     ]
    },
    {
     "name": "stdout",
     "output_type": "stream",
     "text": [
      "+---+-----------------+------------+-------------+----------------+--------------------+------------------+--------------+-------------------+-------+------------+------------+--------------+--------------+------+------------------+-----------------+------------------+---------------+\n",
      "|Age|       Work_Class|Final_Weight|    Education|Education_Number|      Marital_Status|        Occupation|  Relationship|              Race |    Sex|Capital_Gain|Capital_Loss|Hours_per_Week|       Country|Income|Work_Class_encoded|Education_encoded|Occupation_encoded|Country_encoded|\n",
      "+---+-----------------+------------+-------------+----------------+--------------------+------------------+--------------+-------------------+-------+------------+------------+--------------+--------------+------+------------------+-----------------+------------------+---------------+\n",
      "| 39|        State-gov|       77516|    Bachelors|              13|       Never-married|      Adm-clerical| Not-in-family|              White|   Male|        2174|           0|            40| United-States| <=50K|               4.0|              2.0|               3.0|            0.0|\n",
      "| 50| Self-emp-not-inc|       83311|    Bachelors|              13|  Married-civ-spouse|   Exec-managerial|       Husband|              White|   Male|           0|           0|            13| United-States| <=50K|               1.0|              2.0|               2.0|            0.0|\n",
      "| 38|          Private|      215646|      HS-grad|               9|            Divorced| Handlers-cleaners| Not-in-family|              White|   Male|           0|           0|            40| United-States| <=50K|               0.0|              0.0|               9.0|            0.0|\n",
      "| 53|          Private|      234721|         11th|               7|  Married-civ-spouse| Handlers-cleaners|       Husband|              Black|   Male|           0|           0|            40| United-States| <=50K|               0.0|              5.0|               9.0|            0.0|\n",
      "| 28|          Private|      338409|    Bachelors|              13|  Married-civ-spouse|    Prof-specialty|          Wife|              Black| Female|           0|           0|            40|          Cuba| <=50K|               0.0|              2.0|               0.0|            9.0|\n",
      "| 37|          Private|      284582|      Masters|              14|  Married-civ-spouse|   Exec-managerial|          Wife|              White| Female|           0|           0|            40| United-States| <=50K|               0.0|              3.0|               2.0|            0.0|\n",
      "| 49|          Private|      160187|          9th|               5| Married-spouse-a...|     Other-service| Not-in-family|              Black| Female|           0|           0|            16|       Jamaica| <=50K|               0.0|             10.0|               5.0|           11.0|\n",
      "| 52| Self-emp-not-inc|      209642|      HS-grad|               9|  Married-civ-spouse|   Exec-managerial|       Husband|              White|   Male|           0|           0|            45| United-States|  >50K|               1.0|              0.0|               2.0|            0.0|\n",
      "| 31|          Private|       45781|      Masters|              14|       Never-married|    Prof-specialty| Not-in-family|              White| Female|       14084|           0|            50| United-States|  >50K|               0.0|              3.0|               0.0|            0.0|\n",
      "| 42|          Private|      159449|    Bachelors|              13|  Married-civ-spouse|   Exec-managerial|       Husband|              White|   Male|        5178|           0|            40| United-States|  >50K|               0.0|              2.0|               2.0|            0.0|\n",
      "| 37|          Private|      280464| Some-college|              10|  Married-civ-spouse|   Exec-managerial|       Husband|              Black|   Male|           0|           0|            80| United-States|  >50K|               0.0|              1.0|               2.0|            0.0|\n",
      "| 30|        State-gov|      141297|    Bachelors|              13|  Married-civ-spouse|    Prof-specialty|       Husband| Asian-Pac-Islander|   Male|           0|           0|            40|         India|  >50K|               4.0|              2.0|               0.0|            8.0|\n",
      "| 23|          Private|      122272|    Bachelors|              13|       Never-married|      Adm-clerical|     Own-child|              White| Female|           0|           0|            30| United-States| <=50K|               0.0|              2.0|               3.0|            0.0|\n",
      "| 32|          Private|      205019|   Assoc-acdm|              12|       Never-married|             Sales| Not-in-family|              Black|   Male|           0|           0|            50| United-States| <=50K|               0.0|              6.0|               4.0|            0.0|\n",
      "| 40|          Private|      121772|    Assoc-voc|              11|  Married-civ-spouse|      Craft-repair|       Husband| Asian-Pac-Islander|   Male|           0|           0|            40|             ?|  >50K|               0.0|              4.0|               1.0|            2.0|\n",
      "| 34|          Private|      245487|      7th-8th|               4|  Married-civ-spouse|  Transport-moving|       Husband| Amer-Indian-Eskimo|   Male|           0|           0|            45|        Mexico| <=50K|               0.0|              8.0|               8.0|            1.0|\n",
      "| 25| Self-emp-not-inc|      176756|      HS-grad|               9|       Never-married|   Farming-fishing|     Own-child|              White|   Male|           0|           0|            35| United-States| <=50K|               1.0|              0.0|              10.0|            0.0|\n",
      "| 32|          Private|      186824|      HS-grad|               9|       Never-married| Machine-op-inspct|     Unmarried|              White|   Male|           0|           0|            40| United-States| <=50K|               0.0|              0.0|               6.0|            0.0|\n",
      "| 38|          Private|       28887|         11th|               7|  Married-civ-spouse|             Sales|       Husband|              White|   Male|           0|           0|            50| United-States| <=50K|               0.0|              5.0|               4.0|            0.0|\n",
      "| 43| Self-emp-not-inc|      292175|      Masters|              14|            Divorced|   Exec-managerial|     Unmarried|              White| Female|           0|           0|            45| United-States|  >50K|               1.0|              3.0|               2.0|            0.0|\n",
      "+---+-----------------+------------+-------------+----------------+--------------------+------------------+--------------+-------------------+-------+------------+------------+--------------+--------------+------+------------------+-----------------+------------------+---------------+\n",
      "only showing top 20 rows\n",
      "\n"
     ]
    }
   ],
   "source": [
    "from  pyspark.ml import Pipeline\n",
    "pipeline=Pipeline(stages=indexer)\n",
    "new_data=pipeline.fit(spark_df).transform(spark_df)\n",
    "new_data.show()"
   ]
  },
  {
   "cell_type": "markdown",
   "metadata": {},
   "source": [
    "<h3>Scalling the Numeric Data"
   ]
  },
  {
   "cell_type": "code",
   "execution_count": 57,
   "metadata": {},
   "outputs": [
    {
     "name": "stderr",
     "output_type": "stream",
     "text": [
      "                                                                                \r"
     ]
    },
    {
     "name": "stdout",
     "output_type": "stream",
     "text": [
      "+---+-----------------+------------+-------------+----------------+--------------------+------------------+--------------+-------------------+-------+------------+------------+--------------+--------------+------+------------------+-----------------+------------------+---------------+----------+---------------------+-------------------+--------------------+---------------------+--------------------+\n",
      "|Age|       Work_Class|Final_Weight|    Education|Education_Number|      Marital_Status|        Occupation|  Relationship|              Race |    Sex|Capital_Gain|Capital_Loss|Hours_per_Week|       Country|Income|Work_Class_encoded|Education_encoded|Occupation_encoded|Country_encoded|Age_vector|Hours_per_Week_vector|Capital_Gain_vector|          Age_scaled|Hours_per_Week_scaled| Capital_Gain_scaled|\n",
      "+---+-----------------+------------+-------------+----------------+--------------------+------------------+--------------+-------------------+-------+------------+------------+--------------+--------------+------+------------------+-----------------+------------------+---------------+----------+---------------------+-------------------+--------------------+---------------------+--------------------+\n",
      "| 39|        State-gov|       77516|    Bachelors|              13|       Never-married|      Adm-clerical| Not-in-family|              White|   Male|        2174|           0|            40| United-States| <=50K|               4.0|              2.0|               3.0|            0.0|    [39.0]|               [40.0]|           [2174.0]|[0.3013698630136986]| [0.39795918367346...|[0.02174021740217...|\n",
      "| 50| Self-emp-not-inc|       83311|    Bachelors|              13|  Married-civ-spouse|   Exec-managerial|       Husband|              White|   Male|           0|           0|            13| United-States| <=50K|               1.0|              2.0|               2.0|            0.0|    [50.0]|               [13.0]|              [0.0]|[0.4520547945205479]| [0.12244897959183...|               [0.0]|\n",
      "| 38|          Private|      215646|      HS-grad|               9|            Divorced| Handlers-cleaners| Not-in-family|              White|   Male|           0|           0|            40| United-States| <=50K|               0.0|              0.0|               9.0|            0.0|    [38.0]|               [40.0]|              [0.0]|[0.2876712328767123]| [0.39795918367346...|               [0.0]|\n",
      "| 53|          Private|      234721|         11th|               7|  Married-civ-spouse| Handlers-cleaners|       Husband|              Black|   Male|           0|           0|            40| United-States| <=50K|               0.0|              5.0|               9.0|            0.0|    [53.0]|               [40.0]|              [0.0]|[0.4931506849315068]| [0.39795918367346...|               [0.0]|\n",
      "| 28|          Private|      338409|    Bachelors|              13|  Married-civ-spouse|    Prof-specialty|          Wife|              Black| Female|           0|           0|            40|          Cuba| <=50K|               0.0|              2.0|               0.0|            9.0|    [28.0]|               [40.0]|              [0.0]|[0.1506849315068493]| [0.39795918367346...|               [0.0]|\n",
      "| 37|          Private|      284582|      Masters|              14|  Married-civ-spouse|   Exec-managerial|          Wife|              White| Female|           0|           0|            40| United-States| <=50K|               0.0|              3.0|               2.0|            0.0|    [37.0]|               [40.0]|              [0.0]| [0.273972602739726]| [0.39795918367346...|               [0.0]|\n",
      "| 49|          Private|      160187|          9th|               5| Married-spouse-a...|     Other-service| Not-in-family|              Black| Female|           0|           0|            16|       Jamaica| <=50K|               0.0|             10.0|               5.0|           11.0|    [49.0]|               [16.0]|              [0.0]|[0.4383561643835616]| [0.1530612244897959]|               [0.0]|\n",
      "| 52| Self-emp-not-inc|      209642|      HS-grad|               9|  Married-civ-spouse|   Exec-managerial|       Husband|              White|   Male|           0|           0|            45| United-States|  >50K|               1.0|              0.0|               2.0|            0.0|    [52.0]|               [45.0]|              [0.0]|[0.4794520547945205]| [0.44897959183673...|               [0.0]|\n",
      "| 31|          Private|       45781|      Masters|              14|       Never-married|    Prof-specialty| Not-in-family|              White| Female|       14084|           0|            50| United-States|  >50K|               0.0|              3.0|               0.0|            0.0|    [31.0]|               [50.0]|          [14084.0]|[0.1917808219178082]| [0.49999999999999...|[0.14084140841408...|\n",
      "| 42|          Private|      159449|    Bachelors|              13|  Married-civ-spouse|   Exec-managerial|       Husband|              White|   Male|        5178|           0|            40| United-States|  >50K|               0.0|              2.0|               2.0|            0.0|    [42.0]|               [40.0]|           [5178.0]|[0.3424657534246575]| [0.39795918367346...|[0.05178051780517...|\n",
      "| 37|          Private|      280464| Some-college|              10|  Married-civ-spouse|   Exec-managerial|       Husband|              Black|   Male|           0|           0|            80| United-States|  >50K|               0.0|              1.0|               2.0|            0.0|    [37.0]|               [80.0]|              [0.0]| [0.273972602739726]| [0.8061224489795917]|               [0.0]|\n",
      "| 30|        State-gov|      141297|    Bachelors|              13|  Married-civ-spouse|    Prof-specialty|       Husband| Asian-Pac-Islander|   Male|           0|           0|            40|         India|  >50K|               4.0|              2.0|               0.0|            8.0|    [30.0]|               [40.0]|              [0.0]|[0.1780821917808219]| [0.39795918367346...|               [0.0]|\n",
      "| 23|          Private|      122272|    Bachelors|              13|       Never-married|      Adm-clerical|     Own-child|              White| Female|           0|           0|            30| United-States| <=50K|               0.0|              2.0|               3.0|            0.0|    [23.0]|               [30.0]|              [0.0]|[0.0821917808219178]| [0.29591836734693...|               [0.0]|\n",
      "| 32|          Private|      205019|   Assoc-acdm|              12|       Never-married|             Sales| Not-in-family|              Black|   Male|           0|           0|            50| United-States| <=50K|               0.0|              6.0|               4.0|            0.0|    [32.0]|               [50.0]|              [0.0]|[0.2054794520547945]| [0.49999999999999...|               [0.0]|\n",
      "| 40|          Private|      121772|    Assoc-voc|              11|  Married-civ-spouse|      Craft-repair|       Husband| Asian-Pac-Islander|   Male|           0|           0|            40|             ?|  >50K|               0.0|              4.0|               1.0|            2.0|    [40.0]|               [40.0]|              [0.0]|[0.3150684931506849]| [0.39795918367346...|               [0.0]|\n",
      "| 34|          Private|      245487|      7th-8th|               4|  Married-civ-spouse|  Transport-moving|       Husband| Amer-Indian-Eskimo|   Male|           0|           0|            45|        Mexico| <=50K|               0.0|              8.0|               8.0|            1.0|    [34.0]|               [45.0]|              [0.0]|[0.2328767123287671]| [0.44897959183673...|               [0.0]|\n",
      "| 25| Self-emp-not-inc|      176756|      HS-grad|               9|       Never-married|   Farming-fishing|     Own-child|              White|   Male|           0|           0|            35| United-States| <=50K|               1.0|              0.0|              10.0|            0.0|    [25.0]|               [35.0]|              [0.0]|[0.1095890410958904]| [0.3469387755102041]|               [0.0]|\n",
      "| 32|          Private|      186824|      HS-grad|               9|       Never-married| Machine-op-inspct|     Unmarried|              White|   Male|           0|           0|            40| United-States| <=50K|               0.0|              0.0|               6.0|            0.0|    [32.0]|               [40.0]|              [0.0]|[0.2054794520547945]| [0.39795918367346...|               [0.0]|\n",
      "| 38|          Private|       28887|         11th|               7|  Married-civ-spouse|             Sales|       Husband|              White|   Male|           0|           0|            50| United-States| <=50K|               0.0|              5.0|               4.0|            0.0|    [38.0]|               [50.0]|              [0.0]|[0.2876712328767123]| [0.49999999999999...|               [0.0]|\n",
      "| 43| Self-emp-not-inc|      292175|      Masters|              14|            Divorced|   Exec-managerial|     Unmarried|              White| Female|           0|           0|            45| United-States|  >50K|               1.0|              3.0|               2.0|            0.0|    [43.0]|               [45.0]|              [0.0]|[0.3561643835616438]| [0.44897959183673...|               [0.0]|\n",
      "+---+-----------------+------------+-------------+----------------+--------------------+------------------+--------------+-------------------+-------+------------+------------+--------------+--------------+------+------------------+-----------------+------------------+---------------+----------+---------------------+-------------------+--------------------+---------------------+--------------------+\n",
      "only showing top 20 rows\n",
      "\n"
     ]
    }
   ],
   "source": [
    "feature_column = [\"Age\",\"Hours_per_Week\", \"Capital_Gain\"]\n",
    "\n",
    "assemblers = [ml.VectorAssembler(inputCols=[col], outputCol=col + \"_vector\") for col in feature_column]\n",
    "scalers = [ml.MinMaxScaler(inputCol=col + \"_vector\", outputCol=col + \"_scaled\") for col in feature_column]\n",
    "pipeline = Pipeline(stages=assemblers+scalers)\n",
    "scalerModel = pipeline.fit(new_data)\n",
    "new_data = scalerModel.transform(new_data)\n",
    "\n",
    "new_data.show()"
   ]
  },
  {
   "cell_type": "markdown",
   "metadata": {},
   "source": [
    "Replacing the columns"
   ]
  },
  {
   "cell_type": "code",
   "execution_count": 58,
   "metadata": {},
   "outputs": [],
   "source": [
    "new_data=new_data.withColumn(\"Work_Class\",fn.col(\"Work_Class_encoded\"))\n",
    "new_data=new_data.withColumn(\"Education\",fn.col(\"Education_encoded\"))\n",
    "new_data=new_data.withColumn(\"Occupation\",fn.col(\"Occupation_encoded\"))\n",
    "new_data=new_data.withColumn(\"Country\",fn.col(\"Country_encoded\"))\n",
    "new_data=new_data.withColumn(\"Hours_per_Week\",fn.col(\"Hours_per_Week_scaled\"))\n",
    "new_data=new_data.withColumn(\"Age\",fn.col(\"Age_scaled\"))\n",
    "new_data=new_data.withColumn(\"Capital_Gain\",fn.col(\"Capital_Gain_scaled\"))\n"
   ]
  },
  {
   "cell_type": "code",
   "execution_count": 59,
   "metadata": {},
   "outputs": [
    {
     "name": "stdout",
     "output_type": "stream",
     "text": [
      "['Age', 'Work_Class', 'Final_Weight', 'Education', 'Education_Number', 'Marital_Status', 'Occupation', 'Relationship', 'Race ', 'Sex', 'Capital_Gain', 'Capital_Loss', 'Hours_per_Week', 'Country', 'Income', 'Work_Class_encoded', 'Education_encoded', 'Occupation_encoded', 'Country_encoded', 'Age_vector', 'Hours_per_Week_vector', 'Capital_Gain_vector', 'Age_scaled', 'Hours_per_Week_scaled', 'Capital_Gain_scaled']\n"
     ]
    }
   ],
   "source": [
    "print(new_data.columns)"
   ]
  },
  {
   "cell_type": "code",
   "execution_count": 60,
   "metadata": {},
   "outputs": [
    {
     "name": "stdout",
     "output_type": "stream",
     "text": [
      "+--------------------+----------+------------+---------+----------------+--------------------+----------+--------------+-------------------+-------+--------------------+------------+--------------------+-------+------+------------------+-----------------+------------------+---------------+----------+---------------------+-------------------+--------------------+---------------------+--------------------+\n",
      "|                 Age|Work_Class|Final_Weight|Education|Education_Number|      Marital_Status|Occupation|  Relationship|              Race |    Sex|        Capital_Gain|Capital_Loss|      Hours_per_Week|Country|Income|Work_Class_encoded|Education_encoded|Occupation_encoded|Country_encoded|Age_vector|Hours_per_Week_vector|Capital_Gain_vector|          Age_scaled|Hours_per_Week_scaled| Capital_Gain_scaled|\n",
      "+--------------------+----------+------------+---------+----------------+--------------------+----------+--------------+-------------------+-------+--------------------+------------+--------------------+-------+------+------------------+-----------------+------------------+---------------+----------+---------------------+-------------------+--------------------+---------------------+--------------------+\n",
      "|[0.3013698630136986]|       4.0|       77516|      2.0|              13|       Never-married|       3.0| Not-in-family|              White|   Male|[0.02174021740217...|           0|[0.39795918367346...|    0.0| <=50K|               4.0|              2.0|               3.0|            0.0|    [39.0]|               [40.0]|           [2174.0]|[0.3013698630136986]| [0.39795918367346...|[0.02174021740217...|\n",
      "|[0.4520547945205479]|       1.0|       83311|      2.0|              13|  Married-civ-spouse|       2.0|       Husband|              White|   Male|               [0.0]|           0|[0.12244897959183...|    0.0| <=50K|               1.0|              2.0|               2.0|            0.0|    [50.0]|               [13.0]|              [0.0]|[0.4520547945205479]| [0.12244897959183...|               [0.0]|\n",
      "|[0.2876712328767123]|       0.0|      215646|      0.0|               9|            Divorced|       9.0| Not-in-family|              White|   Male|               [0.0]|           0|[0.39795918367346...|    0.0| <=50K|               0.0|              0.0|               9.0|            0.0|    [38.0]|               [40.0]|              [0.0]|[0.2876712328767123]| [0.39795918367346...|               [0.0]|\n",
      "|[0.4931506849315068]|       0.0|      234721|      5.0|               7|  Married-civ-spouse|       9.0|       Husband|              Black|   Male|               [0.0]|           0|[0.39795918367346...|    0.0| <=50K|               0.0|              5.0|               9.0|            0.0|    [53.0]|               [40.0]|              [0.0]|[0.4931506849315068]| [0.39795918367346...|               [0.0]|\n",
      "|[0.1506849315068493]|       0.0|      338409|      2.0|              13|  Married-civ-spouse|       0.0|          Wife|              Black| Female|               [0.0]|           0|[0.39795918367346...|    9.0| <=50K|               0.0|              2.0|               0.0|            9.0|    [28.0]|               [40.0]|              [0.0]|[0.1506849315068493]| [0.39795918367346...|               [0.0]|\n",
      "| [0.273972602739726]|       0.0|      284582|      3.0|              14|  Married-civ-spouse|       2.0|          Wife|              White| Female|               [0.0]|           0|[0.39795918367346...|    0.0| <=50K|               0.0|              3.0|               2.0|            0.0|    [37.0]|               [40.0]|              [0.0]| [0.273972602739726]| [0.39795918367346...|               [0.0]|\n",
      "|[0.4383561643835616]|       0.0|      160187|     10.0|               5| Married-spouse-a...|       5.0| Not-in-family|              Black| Female|               [0.0]|           0|[0.1530612244897959]|   11.0| <=50K|               0.0|             10.0|               5.0|           11.0|    [49.0]|               [16.0]|              [0.0]|[0.4383561643835616]| [0.1530612244897959]|               [0.0]|\n",
      "|[0.4794520547945205]|       1.0|      209642|      0.0|               9|  Married-civ-spouse|       2.0|       Husband|              White|   Male|               [0.0]|           0|[0.44897959183673...|    0.0|  >50K|               1.0|              0.0|               2.0|            0.0|    [52.0]|               [45.0]|              [0.0]|[0.4794520547945205]| [0.44897959183673...|               [0.0]|\n",
      "|[0.1917808219178082]|       0.0|       45781|      3.0|              14|       Never-married|       0.0| Not-in-family|              White| Female|[0.14084140841408...|           0|[0.49999999999999...|    0.0|  >50K|               0.0|              3.0|               0.0|            0.0|    [31.0]|               [50.0]|          [14084.0]|[0.1917808219178082]| [0.49999999999999...|[0.14084140841408...|\n",
      "|[0.3424657534246575]|       0.0|      159449|      2.0|              13|  Married-civ-spouse|       2.0|       Husband|              White|   Male|[0.05178051780517...|           0|[0.39795918367346...|    0.0|  >50K|               0.0|              2.0|               2.0|            0.0|    [42.0]|               [40.0]|           [5178.0]|[0.3424657534246575]| [0.39795918367346...|[0.05178051780517...|\n",
      "| [0.273972602739726]|       0.0|      280464|      1.0|              10|  Married-civ-spouse|       2.0|       Husband|              Black|   Male|               [0.0]|           0|[0.8061224489795917]|    0.0|  >50K|               0.0|              1.0|               2.0|            0.0|    [37.0]|               [80.0]|              [0.0]| [0.273972602739726]| [0.8061224489795917]|               [0.0]|\n",
      "|[0.1780821917808219]|       4.0|      141297|      2.0|              13|  Married-civ-spouse|       0.0|       Husband| Asian-Pac-Islander|   Male|               [0.0]|           0|[0.39795918367346...|    8.0|  >50K|               4.0|              2.0|               0.0|            8.0|    [30.0]|               [40.0]|              [0.0]|[0.1780821917808219]| [0.39795918367346...|               [0.0]|\n",
      "|[0.0821917808219178]|       0.0|      122272|      2.0|              13|       Never-married|       3.0|     Own-child|              White| Female|               [0.0]|           0|[0.29591836734693...|    0.0| <=50K|               0.0|              2.0|               3.0|            0.0|    [23.0]|               [30.0]|              [0.0]|[0.0821917808219178]| [0.29591836734693...|               [0.0]|\n",
      "|[0.2054794520547945]|       0.0|      205019|      6.0|              12|       Never-married|       4.0| Not-in-family|              Black|   Male|               [0.0]|           0|[0.49999999999999...|    0.0| <=50K|               0.0|              6.0|               4.0|            0.0|    [32.0]|               [50.0]|              [0.0]|[0.2054794520547945]| [0.49999999999999...|               [0.0]|\n",
      "|[0.3150684931506849]|       0.0|      121772|      4.0|              11|  Married-civ-spouse|       1.0|       Husband| Asian-Pac-Islander|   Male|               [0.0]|           0|[0.39795918367346...|    2.0|  >50K|               0.0|              4.0|               1.0|            2.0|    [40.0]|               [40.0]|              [0.0]|[0.3150684931506849]| [0.39795918367346...|               [0.0]|\n",
      "|[0.2328767123287671]|       0.0|      245487|      8.0|               4|  Married-civ-spouse|       8.0|       Husband| Amer-Indian-Eskimo|   Male|               [0.0]|           0|[0.44897959183673...|    1.0| <=50K|               0.0|              8.0|               8.0|            1.0|    [34.0]|               [45.0]|              [0.0]|[0.2328767123287671]| [0.44897959183673...|               [0.0]|\n",
      "|[0.1095890410958904]|       1.0|      176756|      0.0|               9|       Never-married|      10.0|     Own-child|              White|   Male|               [0.0]|           0|[0.3469387755102041]|    0.0| <=50K|               1.0|              0.0|              10.0|            0.0|    [25.0]|               [35.0]|              [0.0]|[0.1095890410958904]| [0.3469387755102041]|               [0.0]|\n",
      "|[0.2054794520547945]|       0.0|      186824|      0.0|               9|       Never-married|       6.0|     Unmarried|              White|   Male|               [0.0]|           0|[0.39795918367346...|    0.0| <=50K|               0.0|              0.0|               6.0|            0.0|    [32.0]|               [40.0]|              [0.0]|[0.2054794520547945]| [0.39795918367346...|               [0.0]|\n",
      "|[0.2876712328767123]|       0.0|       28887|      5.0|               7|  Married-civ-spouse|       4.0|       Husband|              White|   Male|               [0.0]|           0|[0.49999999999999...|    0.0| <=50K|               0.0|              5.0|               4.0|            0.0|    [38.0]|               [50.0]|              [0.0]|[0.2876712328767123]| [0.49999999999999...|               [0.0]|\n",
      "|[0.3561643835616438]|       1.0|      292175|      3.0|              14|            Divorced|       2.0|     Unmarried|              White| Female|               [0.0]|           0|[0.44897959183673...|    0.0|  >50K|               1.0|              3.0|               2.0|            0.0|    [43.0]|               [45.0]|              [0.0]|[0.3561643835616438]| [0.44897959183673...|               [0.0]|\n",
      "+--------------------+----------+------------+---------+----------------+--------------------+----------+--------------+-------------------+-------+--------------------+------------+--------------------+-------+------+------------------+-----------------+------------------+---------------+----------+---------------------+-------------------+--------------------+---------------------+--------------------+\n",
      "only showing top 20 rows\n",
      "\n"
     ]
    }
   ],
   "source": [
    "new_data.show()"
   ]
  },
  {
   "cell_type": "markdown",
   "metadata": {},
   "source": [
    "<h4>Selecting the necessary columns for model "
   ]
  },
  {
   "cell_type": "code",
   "execution_count": 61,
   "metadata": {},
   "outputs": [],
   "source": [
    "columns=[\"Age\",\"Work_Class\",\"Education\",\"Occupation\",\"Country\",\"Hours_per_Week\",\"Capital_Loss\",\"Capital_Gain\",\"Income\"]\n",
    "processed_data=new_data.select(*[col for col in columns])"
   ]
  },
  {
   "cell_type": "code",
   "execution_count": 62,
   "metadata": {},
   "outputs": [
    {
     "name": "stdout",
     "output_type": "stream",
     "text": [
      "+--------------------+----------+---------+----------+-------+--------------------+------------+--------------------+------+\n",
      "|                 Age|Work_Class|Education|Occupation|Country|      Hours_per_Week|Capital_Loss|        Capital_Gain|Income|\n",
      "+--------------------+----------+---------+----------+-------+--------------------+------------+--------------------+------+\n",
      "|[0.3013698630136986]|       4.0|      2.0|       3.0|    0.0|[0.39795918367346...|           0|[0.02174021740217...| <=50K|\n",
      "|[0.4520547945205479]|       1.0|      2.0|       2.0|    0.0|[0.12244897959183...|           0|               [0.0]| <=50K|\n",
      "|[0.2876712328767123]|       0.0|      0.0|       9.0|    0.0|[0.39795918367346...|           0|               [0.0]| <=50K|\n",
      "|[0.4931506849315068]|       0.0|      5.0|       9.0|    0.0|[0.39795918367346...|           0|               [0.0]| <=50K|\n",
      "|[0.1506849315068493]|       0.0|      2.0|       0.0|    9.0|[0.39795918367346...|           0|               [0.0]| <=50K|\n",
      "| [0.273972602739726]|       0.0|      3.0|       2.0|    0.0|[0.39795918367346...|           0|               [0.0]| <=50K|\n",
      "|[0.4383561643835616]|       0.0|     10.0|       5.0|   11.0|[0.1530612244897959]|           0|               [0.0]| <=50K|\n",
      "|[0.4794520547945205]|       1.0|      0.0|       2.0|    0.0|[0.44897959183673...|           0|               [0.0]|  >50K|\n",
      "|[0.1917808219178082]|       0.0|      3.0|       0.0|    0.0|[0.49999999999999...|           0|[0.14084140841408...|  >50K|\n",
      "|[0.3424657534246575]|       0.0|      2.0|       2.0|    0.0|[0.39795918367346...|           0|[0.05178051780517...|  >50K|\n",
      "| [0.273972602739726]|       0.0|      1.0|       2.0|    0.0|[0.8061224489795917]|           0|               [0.0]|  >50K|\n",
      "|[0.1780821917808219]|       4.0|      2.0|       0.0|    8.0|[0.39795918367346...|           0|               [0.0]|  >50K|\n",
      "|[0.0821917808219178]|       0.0|      2.0|       3.0|    0.0|[0.29591836734693...|           0|               [0.0]| <=50K|\n",
      "|[0.2054794520547945]|       0.0|      6.0|       4.0|    0.0|[0.49999999999999...|           0|               [0.0]| <=50K|\n",
      "|[0.3150684931506849]|       0.0|      4.0|       1.0|    2.0|[0.39795918367346...|           0|               [0.0]|  >50K|\n",
      "|[0.2328767123287671]|       0.0|      8.0|       8.0|    1.0|[0.44897959183673...|           0|               [0.0]| <=50K|\n",
      "|[0.1095890410958904]|       1.0|      0.0|      10.0|    0.0|[0.3469387755102041]|           0|               [0.0]| <=50K|\n",
      "|[0.2054794520547945]|       0.0|      0.0|       6.0|    0.0|[0.39795918367346...|           0|               [0.0]| <=50K|\n",
      "|[0.2876712328767123]|       0.0|      5.0|       4.0|    0.0|[0.49999999999999...|           0|               [0.0]| <=50K|\n",
      "|[0.3561643835616438]|       1.0|      3.0|       2.0|    0.0|[0.44897959183673...|           0|               [0.0]|  >50K|\n",
      "+--------------------+----------+---------+----------+-------+--------------------+------------+--------------------+------+\n",
      "only showing top 20 rows\n",
      "\n"
     ]
    }
   ],
   "source": [
    "processed_data.show()"
   ]
  },
  {
   "cell_type": "markdown",
   "metadata": {},
   "source": [
    "Replacing Income By 0 and 1"
   ]
  },
  {
   "cell_type": "code",
   "execution_count": 63,
   "metadata": {},
   "outputs": [],
   "source": [
    "processed_data=processed_data.withColumn('Income',fn.trim(fn.col('Income')))"
   ]
  },
  {
   "cell_type": "code",
   "execution_count": 64,
   "metadata": {},
   "outputs": [
    {
     "name": "stdout",
     "output_type": "stream",
     "text": [
      "+--------------------+----------+---------+----------+-------+--------------------+------------+--------------------+------+\n",
      "|                 Age|Work_Class|Education|Occupation|Country|      Hours_per_Week|Capital_Loss|        Capital_Gain|Income|\n",
      "+--------------------+----------+---------+----------+-------+--------------------+------------+--------------------+------+\n",
      "|[0.3013698630136986]|       4.0|      2.0|       3.0|    0.0|[0.39795918367346...|           0|[0.02174021740217...|     0|\n",
      "|[0.4520547945205479]|       1.0|      2.0|       2.0|    0.0|[0.12244897959183...|           0|               [0.0]|     0|\n",
      "|[0.2876712328767123]|       0.0|      0.0|       9.0|    0.0|[0.39795918367346...|           0|               [0.0]|     0|\n",
      "|[0.4931506849315068]|       0.0|      5.0|       9.0|    0.0|[0.39795918367346...|           0|               [0.0]|     0|\n",
      "|[0.1506849315068493]|       0.0|      2.0|       0.0|    9.0|[0.39795918367346...|           0|               [0.0]|     0|\n",
      "| [0.273972602739726]|       0.0|      3.0|       2.0|    0.0|[0.39795918367346...|           0|               [0.0]|     0|\n",
      "|[0.4383561643835616]|       0.0|     10.0|       5.0|   11.0|[0.1530612244897959]|           0|               [0.0]|     0|\n",
      "|[0.4794520547945205]|       1.0|      0.0|       2.0|    0.0|[0.44897959183673...|           0|               [0.0]|     1|\n",
      "|[0.1917808219178082]|       0.0|      3.0|       0.0|    0.0|[0.49999999999999...|           0|[0.14084140841408...|     1|\n",
      "|[0.3424657534246575]|       0.0|      2.0|       2.0|    0.0|[0.39795918367346...|           0|[0.05178051780517...|     1|\n",
      "| [0.273972602739726]|       0.0|      1.0|       2.0|    0.0|[0.8061224489795917]|           0|               [0.0]|     1|\n",
      "|[0.1780821917808219]|       4.0|      2.0|       0.0|    8.0|[0.39795918367346...|           0|               [0.0]|     1|\n",
      "|[0.0821917808219178]|       0.0|      2.0|       3.0|    0.0|[0.29591836734693...|           0|               [0.0]|     0|\n",
      "|[0.2054794520547945]|       0.0|      6.0|       4.0|    0.0|[0.49999999999999...|           0|               [0.0]|     0|\n",
      "|[0.3150684931506849]|       0.0|      4.0|       1.0|    2.0|[0.39795918367346...|           0|               [0.0]|     1|\n",
      "|[0.2328767123287671]|       0.0|      8.0|       8.0|    1.0|[0.44897959183673...|           0|               [0.0]|     0|\n",
      "|[0.1095890410958904]|       1.0|      0.0|      10.0|    0.0|[0.3469387755102041]|           0|               [0.0]|     0|\n",
      "|[0.2054794520547945]|       0.0|      0.0|       6.0|    0.0|[0.39795918367346...|           0|               [0.0]|     0|\n",
      "|[0.2876712328767123]|       0.0|      5.0|       4.0|    0.0|[0.49999999999999...|           0|               [0.0]|     0|\n",
      "|[0.3561643835616438]|       1.0|      3.0|       2.0|    0.0|[0.44897959183673...|           0|               [0.0]|     1|\n",
      "+--------------------+----------+---------+----------+-------+--------------------+------------+--------------------+------+\n",
      "only showing top 20 rows\n",
      "\n"
     ]
    }
   ],
   "source": [
    "processed_data=processed_data.withColumn('Income',fn.when(fn.col('Income') == '>50K',1).otherwise(0))\n",
    "processed_data.show()"
   ]
  },
  {
   "cell_type": "markdown",
   "metadata": {},
   "source": [
    "<h3>Adding the feature"
   ]
  },
  {
   "cell_type": "code",
   "execution_count": 65,
   "metadata": {},
   "outputs": [],
   "source": [
    "train,test=processed_data.randomSplit([0.8,0.3])"
   ]
  },
  {
   "cell_type": "code",
   "execution_count": 66,
   "metadata": {},
   "outputs": [
    {
     "name": "stdout",
     "output_type": "stream",
     "text": [
      "['Age', 'Work_Class', 'Education', 'Occupation', 'Country', 'Hours_per_Week', 'Capital_Loss', 'Capital_Gain', 'Income']\n"
     ]
    }
   ],
   "source": [
    "print(processed_data.columns)\n",
    "feature_column=['Age', 'Work_Class', 'Education', 'Occupation', 'Country','Hours_per_Week', 'Capital_Loss', 'Capital_Gain']"
   ]
  },
  {
   "cell_type": "code",
   "execution_count": 67,
   "metadata": {},
   "outputs": [],
   "source": [
    "assemblers = ml.VectorAssembler(inputCols=feature_column ,outputCol=\"features\")\n",
    "\n",
    "new_data = assemblers.transform(processed_data)"
   ]
  },
  {
   "cell_type": "code",
   "execution_count": 68,
   "metadata": {},
   "outputs": [
    {
     "name": "stdout",
     "output_type": "stream",
     "text": [
      "+--------------------+----------+---------+----------+-------+--------------------+------------+--------------------+------+--------------------+\n",
      "|                 Age|Work_Class|Education|Occupation|Country|      Hours_per_Week|Capital_Loss|        Capital_Gain|Income|            features|\n",
      "+--------------------+----------+---------+----------+-------+--------------------+------------+--------------------+------+--------------------+\n",
      "|[0.3013698630136986]|       4.0|      2.0|       3.0|    0.0|[0.39795918367346...|           0|[0.02174021740217...|     0|[0.30136986301369...|\n",
      "|[0.4520547945205479]|       1.0|      2.0|       2.0|    0.0|[0.12244897959183...|           0|               [0.0]|     0|[0.45205479452054...|\n",
      "|[0.2876712328767123]|       0.0|      0.0|       9.0|    0.0|[0.39795918367346...|           0|               [0.0]|     0|(8,[0,3,5],[0.287...|\n",
      "|[0.4931506849315068]|       0.0|      5.0|       9.0|    0.0|[0.39795918367346...|           0|               [0.0]|     0|(8,[0,2,3,5],[0.4...|\n",
      "|[0.1506849315068493]|       0.0|      2.0|       0.0|    9.0|[0.39795918367346...|           0|               [0.0]|     0|(8,[0,2,4,5],[0.1...|\n",
      "| [0.273972602739726]|       0.0|      3.0|       2.0|    0.0|[0.39795918367346...|           0|               [0.0]|     0|(8,[0,2,3,5],[0.2...|\n",
      "|[0.4383561643835616]|       0.0|     10.0|       5.0|   11.0|[0.1530612244897959]|           0|               [0.0]|     0|[0.43835616438356...|\n",
      "|[0.4794520547945205]|       1.0|      0.0|       2.0|    0.0|[0.44897959183673...|           0|               [0.0]|     1|(8,[0,1,3,5],[0.4...|\n",
      "|[0.1917808219178082]|       0.0|      3.0|       0.0|    0.0|[0.49999999999999...|           0|[0.14084140841408...|     1|(8,[0,2,5,7],[0.1...|\n",
      "|[0.3424657534246575]|       0.0|      2.0|       2.0|    0.0|[0.39795918367346...|           0|[0.05178051780517...|     1|[0.34246575342465...|\n",
      "| [0.273972602739726]|       0.0|      1.0|       2.0|    0.0|[0.8061224489795917]|           0|               [0.0]|     1|(8,[0,2,3,5],[0.2...|\n",
      "|[0.1780821917808219]|       4.0|      2.0|       0.0|    8.0|[0.39795918367346...|           0|               [0.0]|     1|[0.17808219178082...|\n",
      "|[0.0821917808219178]|       0.0|      2.0|       3.0|    0.0|[0.29591836734693...|           0|               [0.0]|     0|(8,[0,2,3,5],[0.0...|\n",
      "|[0.2054794520547945]|       0.0|      6.0|       4.0|    0.0|[0.49999999999999...|           0|               [0.0]|     0|(8,[0,2,3,5],[0.2...|\n",
      "|[0.3150684931506849]|       0.0|      4.0|       1.0|    2.0|[0.39795918367346...|           0|               [0.0]|     1|[0.31506849315068...|\n",
      "|[0.2328767123287671]|       0.0|      8.0|       8.0|    1.0|[0.44897959183673...|           0|               [0.0]|     0|[0.23287671232876...|\n",
      "|[0.1095890410958904]|       1.0|      0.0|      10.0|    0.0|[0.3469387755102041]|           0|               [0.0]|     0|(8,[0,1,3,5],[0.1...|\n",
      "|[0.2054794520547945]|       0.0|      0.0|       6.0|    0.0|[0.39795918367346...|           0|               [0.0]|     0|(8,[0,3,5],[0.205...|\n",
      "|[0.2876712328767123]|       0.0|      5.0|       4.0|    0.0|[0.49999999999999...|           0|               [0.0]|     0|(8,[0,2,3,5],[0.2...|\n",
      "|[0.3561643835616438]|       1.0|      3.0|       2.0|    0.0|[0.44897959183673...|           0|               [0.0]|     1|[0.35616438356164...|\n",
      "+--------------------+----------+---------+----------+-------+--------------------+------------+--------------------+------+--------------------+\n",
      "only showing top 20 rows\n",
      "\n"
     ]
    }
   ],
   "source": [
    "new_data.show()"
   ]
  },
  {
   "cell_type": "markdown",
   "metadata": {},
   "source": [
    "<h3>Spliting The data "
   ]
  },
  {
   "cell_type": "code",
   "execution_count": 69,
   "metadata": {},
   "outputs": [],
   "source": [
    "train_df,test_df=new_data.randomSplit([0.8,0.2])"
   ]
  },
  {
   "cell_type": "code",
   "execution_count": 70,
   "metadata": {},
   "outputs": [],
   "source": [
    "train_df = train_df.withColumn(\"Income\", fn.col(\"Income\").cast(\"double\"))\n",
    "test_df = test_df.withColumn(\"Income\", fn.col(\"Income\").cast(\"double\"))\n"
   ]
  },
  {
   "cell_type": "markdown",
   "metadata": {},
   "source": [
    "<h2> Fitting The model"
   ]
  },
  {
   "cell_type": "code",
   "execution_count": 71,
   "metadata": {},
   "outputs": [
    {
     "name": "stderr",
     "output_type": "stream",
     "text": [
      "                                                                                \r"
     ]
    }
   ],
   "source": [
    "from pyspark.ml.classification import LogisticRegression\n",
    "regr = LogisticRegression(featuresCol='features', labelCol='Income')\n",
    "\n",
    "# Fit the model to the training data\n",
    "regr_model = regr.fit(train_df)\n"
   ]
  },
  {
   "cell_type": "code",
   "execution_count": 72,
   "metadata": {},
   "outputs": [],
   "source": [
    "from pyspark.ml.evaluation import MulticlassClassificationEvaluator"
   ]
  },
  {
   "cell_type": "code",
   "execution_count": 73,
   "metadata": {},
   "outputs": [],
   "source": [
    "predections=regr_model.transform(test_df)"
   ]
  },
  {
   "cell_type": "code",
   "execution_count": 74,
   "metadata": {},
   "outputs": [
    {
     "name": "stderr",
     "output_type": "stream",
     "text": [
      "[Stage 161:>                                                        (0 + 1) / 1]\r"
     ]
    },
    {
     "name": "stdout",
     "output_type": "stream",
     "text": [
      "+-----+----------+---------+----------+-------+--------------------+------------+--------------------+------+--------------------+--------------------+--------------------+----------+\n",
      "|  Age|Work_Class|Education|Occupation|Country|      Hours_per_Week|Capital_Loss|        Capital_Gain|Income|            features|       rawPrediction|         probability|prediction|\n",
      "+-----+----------+---------+----------+-------+--------------------+------------+--------------------+------+--------------------+--------------------+--------------------+----------+\n",
      "|[0.0]|       0.0|      0.0|       3.0|    0.0|[0.19387755102040...|           0|               [0.0]|   0.0|(8,[3,5],[3.0,0.1...|[3.32713002978421...|[0.96534789348172...|       0.0|\n",
      "|[0.0]|       0.0|      0.0|       4.0|    0.0|[0.19387755102040...|           0|               [0.0]|   0.0|(8,[3,5],[4.0,0.1...|[3.45508065386226...|[0.96938229591713...|       0.0|\n",
      "|[0.0]|       0.0|      0.0|       5.0|    1.0|[0.3469387755102041]|           0|               [0.0]|   0.0|(8,[3,4,5],[5.0,1...|[2.92387155905105...|[0.94901395613355...|       0.0|\n",
      "|[0.0]|       0.0|      5.0|       1.0|    0.0|[0.1530612244897959]|           0|               [0.0]|   0.0|(8,[2,3,5],[5.0,1...|[3.22775390794083...|[0.96186545100082...|       0.0|\n",
      "|[0.0]|       0.0|      5.0|       3.0|    0.0|[0.11224489795918...|           0|               [0.0]|   0.0|(8,[2,3,5],[5.0,3...|[3.66158246578395...|[0.97495171209886...|       0.0|\n",
      "|[0.0]|       0.0|      5.0|       3.0|    0.0|[0.1530612244897959]|           0|               [0.0]|   0.0|(8,[2,3,5],[5.0,3...|[3.48365515609692...|[0.97021911393388...|       0.0|\n",
      "|[0.0]|       0.0|      5.0|       4.0|    0.0|[0.11224489795918...|        1602|               [0.0]|   0.0|(8,[2,3,5,6],[5.0...|[2.59140654257233...|[0.93030646741531...|       0.0|\n",
      "|[0.0]|       0.0|      5.0|       4.0|    0.0|[0.14285714285714...|           0|               [0.0]|   0.0|(8,[2,3,5],[5.0,4...|[3.65608760759673...|[0.97481717209199...|       0.0|\n",
      "|[0.0]|       0.0|      5.0|       4.0|    0.0|[0.14285714285714...|           0|               [0.0]|   0.0|(8,[2,3,5],[5.0,4...|[3.65608760759673...|[0.97481717209199...|       0.0|\n",
      "|[0.0]|       0.0|      5.0|       4.0|    0.0|[0.14285714285714...|           0|               [0.0]|   0.0|(8,[2,3,5],[5.0,4...|[3.65608760759673...|[0.97481717209199...|       0.0|\n",
      "|[0.0]|       0.0|      5.0|       4.0|    0.0|[0.19387755102040...|           0|               [0.0]|   0.0|(8,[2,3,5],[5.0,4...|[3.43367847048794...|[0.96874065220790...|       0.0|\n",
      "|[0.0]|       0.0|      5.0|       4.0|    0.0|[0.19387755102040...|           0|               [0.0]|   0.0|(8,[2,3,5],[5.0,4...|[3.43367847048794...|[0.96874065220790...|       0.0|\n",
      "|[0.0]|       0.0|      5.0|       4.0|    0.0|[0.19387755102040...|           0|               [0.0]|   0.0|(8,[2,3,5],[5.0,4...|[3.43367847048794...|[0.96874065220790...|       0.0|\n",
      "|[0.0]|       0.0|      5.0|       4.0|    0.0|[0.2755102040816326]|           0|               [0.0]|   0.0|(8,[2,3,5],[5.0,4...|[3.07782385111389...|[0.95596867574794...|       0.0|\n",
      "|[0.0]|       0.0|      5.0|       4.0|    8.0|[0.17346938775510...|           0|[0.01055010550105...|   0.0|[0.0,0.0,5.0,4.0,...|[3.24226976804032...|[0.96239434200897...|       0.0|\n",
      "|[0.0]|       0.0|      5.0|       5.0|    0.0|[0.06122448979591...|           0|               [0.0]|   0.0|(8,[2,3,5],[5.0,5...|[4.13989285104882...|[0.98432505879313...|       0.0|\n",
      "|[0.0]|       0.0|      5.0|       5.0|    0.0|[0.09183673469387...|           0|               [0.0]|   0.0|(8,[2,3,5],[5.0,5...|[4.00644736878356...|[0.98212731482200...|       0.0|\n",
      "|[0.0]|       0.0|      5.0|       5.0|    0.0|[0.11224489795918...|           0|               [0.0]|   0.0|(8,[2,3,5],[5.0,5...|[3.91748371394004...|[0.98049685520026...|       0.0|\n",
      "|[0.0]|       0.0|      5.0|       5.0|    0.0|[0.11224489795918...|           0|               [0.0]|   0.0|(8,[2,3,5],[5.0,5...|[3.91748371394004...|[0.98049685520026...|       0.0|\n",
      "|[0.0]|       0.0|      5.0|       5.0|    0.0|[0.14285714285714...|           0|               [0.0]|   0.0|(8,[2,3,5],[5.0,5...|[3.78403823167477...|[0.97777448781203...|       0.0|\n",
      "+-----+----------+---------+----------+-------+--------------------+------------+--------------------+------+--------------------+--------------------+--------------------+----------+\n",
      "only showing top 20 rows\n",
      "\n"
     ]
    },
    {
     "name": "stderr",
     "output_type": "stream",
     "text": [
      "                                                                                \r"
     ]
    }
   ],
   "source": [
    "predections.show()"
   ]
  },
  {
   "cell_type": "markdown",
   "metadata": {},
   "source": [
    "Type casting"
   ]
  },
  {
   "cell_type": "code",
   "execution_count": 76,
   "metadata": {},
   "outputs": [],
   "source": [
    "predect_data = predections.withColumn(\"prediction\", predections[\"prediction\"].cast(\"double\"))\n",
    "predect_data= predections.withColumn(\"label\", predections[\"Income\"].cast(\"double\"))"
   ]
  },
  {
   "cell_type": "markdown",
   "metadata": {},
   "source": [
    "<h4> Calculating the accuracy of model"
   ]
  },
  {
   "cell_type": "code",
   "execution_count": 78,
   "metadata": {},
   "outputs": [
    {
     "name": "stderr",
     "output_type": "stream",
     "text": [
      "[Stage 173:>                                                        (0 + 1) / 1]\r"
     ]
    },
    {
     "name": "stdout",
     "output_type": "stream",
     "text": [
      "0.8021599624354359\n"
     ]
    },
    {
     "name": "stderr",
     "output_type": "stream",
     "text": [
      "                                                                                \r"
     ]
    }
   ],
   "source": [
    "evaluator = MulticlassClassificationEvaluator(metricName=\"accuracy\")\n",
    "accuracy=evaluator.evaluate(predect_data)\n",
    "print(accuracy)"
   ]
  }
 ],
 "metadata": {
  "kernelspec": {
   "display_name": "Python 3",
   "language": "python",
   "name": "python3"
  },
  "language_info": {
   "codemirror_mode": {
    "name": "ipython",
    "version": 3
   },
   "file_extension": ".py",
   "mimetype": "text/x-python",
   "name": "python",
   "nbconvert_exporter": "python",
   "pygments_lexer": "ipython3",
   "version": "3.8.10"
  },
  "orig_nbformat": 4
 },
 "nbformat": 4,
 "nbformat_minor": 2
}
